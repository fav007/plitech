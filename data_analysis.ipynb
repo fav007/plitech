{
 "cells": [
  {
   "cell_type": "code",
   "execution_count": 10,
   "metadata": {},
   "outputs": [],
   "source": [
    "import sqlite3 as sq\n",
    "import pandas as pd\n",
    "import numpy as np\n",
    "import matplotlib.pyplot as plt\n",
    "import plotly.express as px\n",
    "import plotly.graph_objects as go\n",
    "from plotly.subplots import make_subplots\n",
    "from scipy.interpolate import interp1d"
   ]
  },
  {
   "cell_type": "code",
   "execution_count": 35,
   "metadata": {},
   "outputs": [],
   "source": [
    "conn = sq.connect(\"plitech_database.db\")\n",
    "cur = conn.cursor()\n",
    "df = pd.read_sql_query('select * from recap',conn)\n",
    "conn.close()\n",
    "\n",
    "df[\"date_arrivé\"] = pd.to_datetime(df[\"date_arrivé\"])\n",
    "\n",
    "df['qty_tole'] = df.qty*df.longueur*df.largeur/2000000\n",
    "df[\"ca\"] = df.total_frais_pliage+df.total_vente_tole\n",
    "\n",
    "df1 = df.groupby([\"nom_client\",\"date_arrivé\",\"heure_arrivé\"]).agg({'ca':'mean','num_facture':'mean','qty_tole':sum,\"total_vente_tole\":'mean',\t\"total_frais_pliage\":'mean',\t\"total_remise\":'mean',\t\"total_chute\":'mean'}).reset_index()\n",
    "df2 = df.groupby([\"num_facture\",\"date_arrivé\",\"nom_client\"]).agg({'ca':'mean','qty_tole':sum,\"total_vente_tole\":'mean',\t\"total_frais_pliage\":'mean',\t\"total_remise\":'mean',\t\"total_chute\":'mean'}).reset_index()\n",
    "\n",
    "df1['frais_pliage_by_tole'] = df.total_frais_pliage/df.qty_tole\n"
   ]
  },
  {
   "cell_type": "code",
   "execution_count": 37,
   "metadata": {},
   "outputs": [],
   "source": [
    "df2 = df2.set_index(\"date_arrivé\")"
   ]
  },
  {
   "cell_type": "code",
   "execution_count": 38,
   "metadata": {},
   "outputs": [
    {
     "data": {
      "text/html": [
       "<div>\n",
       "<style scoped>\n",
       "    .dataframe tbody tr th:only-of-type {\n",
       "        vertical-align: middle;\n",
       "    }\n",
       "\n",
       "    .dataframe tbody tr th {\n",
       "        vertical-align: top;\n",
       "    }\n",
       "\n",
       "    .dataframe thead th {\n",
       "        text-align: right;\n",
       "    }\n",
       "</style>\n",
       "<table border=\"1\" class=\"dataframe\">\n",
       "  <thead>\n",
       "    <tr style=\"text-align: right;\">\n",
       "      <th></th>\n",
       "      <th>num_facture</th>\n",
       "      <th>nom_client</th>\n",
       "      <th>ca</th>\n",
       "      <th>qty_tole</th>\n",
       "      <th>total_vente_tole</th>\n",
       "      <th>total_frais_pliage</th>\n",
       "      <th>total_remise</th>\n",
       "      <th>total_chute</th>\n",
       "    </tr>\n",
       "    <tr>\n",
       "      <th>date_arrivé</th>\n",
       "      <th></th>\n",
       "      <th></th>\n",
       "      <th></th>\n",
       "      <th></th>\n",
       "      <th></th>\n",
       "      <th></th>\n",
       "      <th></th>\n",
       "      <th></th>\n",
       "    </tr>\n",
       "  </thead>\n",
       "  <tbody>\n",
       "    <tr>\n",
       "      <th>2023-03-01</th>\n",
       "      <td>1</td>\n",
       "      <td>RAHERY</td>\n",
       "      <td>103000.0</td>\n",
       "      <td>1.0</td>\n",
       "      <td>88000.0</td>\n",
       "      <td>15000.0</td>\n",
       "      <td>0.0</td>\n",
       "      <td>0.000</td>\n",
       "    </tr>\n",
       "    <tr>\n",
       "      <th>2023-03-02</th>\n",
       "      <td>2</td>\n",
       "      <td>NIX</td>\n",
       "      <td>135000.0</td>\n",
       "      <td>1.3</td>\n",
       "      <td>115500.0</td>\n",
       "      <td>19500.0</td>\n",
       "      <td>0.0</td>\n",
       "      <td>0.000</td>\n",
       "    </tr>\n",
       "    <tr>\n",
       "      <th>2023-03-03</th>\n",
       "      <td>3</td>\n",
       "      <td>SAFIDY</td>\n",
       "      <td>405000.0</td>\n",
       "      <td>3.8</td>\n",
       "      <td>336000.0</td>\n",
       "      <td>69000.0</td>\n",
       "      <td>0.0</td>\n",
       "      <td>0.000</td>\n",
       "    </tr>\n",
       "    <tr>\n",
       "      <th>2023-03-03</th>\n",
       "      <td>4</td>\n",
       "      <td>JOHARY</td>\n",
       "      <td>12000.0</td>\n",
       "      <td>1.0</td>\n",
       "      <td>0.0</td>\n",
       "      <td>12000.0</td>\n",
       "      <td>0.0</td>\n",
       "      <td>0.000</td>\n",
       "    </tr>\n",
       "    <tr>\n",
       "      <th>2023-03-08</th>\n",
       "      <td>5</td>\n",
       "      <td>TINA</td>\n",
       "      <td>121000.0</td>\n",
       "      <td>1.0</td>\n",
       "      <td>103000.0</td>\n",
       "      <td>18000.0</td>\n",
       "      <td>0.0</td>\n",
       "      <td>0.000</td>\n",
       "    </tr>\n",
       "    <tr>\n",
       "      <th>...</th>\n",
       "      <td>...</td>\n",
       "      <td>...</td>\n",
       "      <td>...</td>\n",
       "      <td>...</td>\n",
       "      <td>...</td>\n",
       "      <td>...</td>\n",
       "      <td>...</td>\n",
       "      <td>...</td>\n",
       "    </tr>\n",
       "    <tr>\n",
       "      <th>2023-08-10</th>\n",
       "      <td>205</td>\n",
       "      <td>RAHERY</td>\n",
       "      <td>21000.0</td>\n",
       "      <td>1.0</td>\n",
       "      <td>0.0</td>\n",
       "      <td>21000.0</td>\n",
       "      <td>0.0</td>\n",
       "      <td>0.150</td>\n",
       "    </tr>\n",
       "    <tr>\n",
       "      <th>2023-08-10</th>\n",
       "      <td>206</td>\n",
       "      <td>TOKY</td>\n",
       "      <td>6000.0</td>\n",
       "      <td>1.0</td>\n",
       "      <td>0.0</td>\n",
       "      <td>6000.0</td>\n",
       "      <td>0.0</td>\n",
       "      <td>0.000</td>\n",
       "    </tr>\n",
       "    <tr>\n",
       "      <th>2023-08-11</th>\n",
       "      <td>207</td>\n",
       "      <td>FANILO</td>\n",
       "      <td>90500.0</td>\n",
       "      <td>1.0</td>\n",
       "      <td>77000.0</td>\n",
       "      <td>13500.0</td>\n",
       "      <td>3700.0</td>\n",
       "      <td>0.000</td>\n",
       "    </tr>\n",
       "    <tr>\n",
       "      <th>2023-08-11</th>\n",
       "      <td>208</td>\n",
       "      <td>DOMINIQUE</td>\n",
       "      <td>6000.0</td>\n",
       "      <td>0.4</td>\n",
       "      <td>0.0</td>\n",
       "      <td>6000.0</td>\n",
       "      <td>0.0</td>\n",
       "      <td>0.040</td>\n",
       "    </tr>\n",
       "    <tr>\n",
       "      <th>2023-08-12</th>\n",
       "      <td>209</td>\n",
       "      <td>MAMY</td>\n",
       "      <td>74000.0</td>\n",
       "      <td>6.0</td>\n",
       "      <td>0.0</td>\n",
       "      <td>74000.0</td>\n",
       "      <td>0.0</td>\n",
       "      <td>1.372</td>\n",
       "    </tr>\n",
       "  </tbody>\n",
       "</table>\n",
       "<p>178 rows × 8 columns</p>\n",
       "</div>"
      ],
      "text/plain": [
       "             num_facture nom_client        ca  qty_tole  total_vente_tole  \\\n",
       "date_arrivé                                                                 \n",
       "2023-03-01             1     RAHERY  103000.0       1.0           88000.0   \n",
       "2023-03-02             2        NIX  135000.0       1.3          115500.0   \n",
       "2023-03-03             3     SAFIDY  405000.0       3.8          336000.0   \n",
       "2023-03-03             4     JOHARY   12000.0       1.0               0.0   \n",
       "2023-03-08             5       TINA  121000.0       1.0          103000.0   \n",
       "...                  ...        ...       ...       ...               ...   \n",
       "2023-08-10           205     RAHERY   21000.0       1.0               0.0   \n",
       "2023-08-10           206       TOKY    6000.0       1.0               0.0   \n",
       "2023-08-11           207     FANILO   90500.0       1.0           77000.0   \n",
       "2023-08-11           208  DOMINIQUE    6000.0       0.4               0.0   \n",
       "2023-08-12           209       MAMY   74000.0       6.0               0.0   \n",
       "\n",
       "             total_frais_pliage  total_remise  total_chute  \n",
       "date_arrivé                                                 \n",
       "2023-03-01              15000.0           0.0        0.000  \n",
       "2023-03-02              19500.0           0.0        0.000  \n",
       "2023-03-03              69000.0           0.0        0.000  \n",
       "2023-03-03              12000.0           0.0        0.000  \n",
       "2023-03-08              18000.0           0.0        0.000  \n",
       "...                         ...           ...          ...  \n",
       "2023-08-10              21000.0           0.0        0.150  \n",
       "2023-08-10               6000.0           0.0        0.000  \n",
       "2023-08-11              13500.0        3700.0        0.000  \n",
       "2023-08-11               6000.0           0.0        0.040  \n",
       "2023-08-12              74000.0           0.0        1.372  \n",
       "\n",
       "[178 rows x 8 columns]"
      ]
     },
     "execution_count": 38,
     "metadata": {},
     "output_type": "execute_result"
    }
   ],
   "source": [
    "df2"
   ]
  },
  {
   "cell_type": "code",
   "execution_count": 40,
   "metadata": {},
   "outputs": [
    {
     "ename": "KeyError",
     "evalue": "'total_frais_pliage\\t'",
     "output_type": "error",
     "traceback": [
      "\u001b[1;31m---------------------------------------------------------------------------\u001b[0m",
      "\u001b[1;31mKeyError\u001b[0m                                  Traceback (most recent call last)",
      "File \u001b[1;32mc:\\Users\\USER\\anaconda3\\envs\\dashboard\\Lib\\site-packages\\pandas\\core\\indexes\\base.py:3802\u001b[0m, in \u001b[0;36mIndex.get_loc\u001b[1;34m(self, key, method, tolerance)\u001b[0m\n\u001b[0;32m   3801\u001b[0m \u001b[39mtry\u001b[39;00m:\n\u001b[1;32m-> 3802\u001b[0m     \u001b[39mreturn\u001b[39;00m \u001b[39mself\u001b[39;49m\u001b[39m.\u001b[39;49m_engine\u001b[39m.\u001b[39;49mget_loc(casted_key)\n\u001b[0;32m   3803\u001b[0m \u001b[39mexcept\u001b[39;00m \u001b[39mKeyError\u001b[39;00m \u001b[39mas\u001b[39;00m err:\n",
      "File \u001b[1;32mc:\\Users\\USER\\anaconda3\\envs\\dashboard\\Lib\\site-packages\\pandas\\_libs\\index.pyx:138\u001b[0m, in \u001b[0;36mpandas._libs.index.IndexEngine.get_loc\u001b[1;34m()\u001b[0m\n",
      "File \u001b[1;32mc:\\Users\\USER\\anaconda3\\envs\\dashboard\\Lib\\site-packages\\pandas\\_libs\\index.pyx:165\u001b[0m, in \u001b[0;36mpandas._libs.index.IndexEngine.get_loc\u001b[1;34m()\u001b[0m\n",
      "File \u001b[1;32mpandas\\_libs\\hashtable_class_helper.pxi:5745\u001b[0m, in \u001b[0;36mpandas._libs.hashtable.PyObjectHashTable.get_item\u001b[1;34m()\u001b[0m\n",
      "File \u001b[1;32mpandas\\_libs\\hashtable_class_helper.pxi:5753\u001b[0m, in \u001b[0;36mpandas._libs.hashtable.PyObjectHashTable.get_item\u001b[1;34m()\u001b[0m\n",
      "\u001b[1;31mKeyError\u001b[0m: 'total_frais_pliage\\t'",
      "\nThe above exception was the direct cause of the following exception:\n",
      "\u001b[1;31mKeyError\u001b[0m                                  Traceback (most recent call last)",
      "\u001b[1;32mc:\\Users\\USER\\code\\fav007\\DGD\\plitech\\data_analysis.ipynb Cell 5\u001b[0m in \u001b[0;36m2\n\u001b[0;32m      <a href='vscode-notebook-cell:/c%3A/Users/USER/code/fav007/DGD/plitech/data_analysis.ipynb#W4sZmlsZQ%3D%3D?line=0'>1</a>\u001b[0m df2[\u001b[39m'\u001b[39m\u001b[39mca\u001b[39m\u001b[39m'\u001b[39m]\u001b[39m.\u001b[39mresample(\u001b[39m'\u001b[39m\u001b[39mM\u001b[39m\u001b[39m'\u001b[39m)\u001b[39m.\u001b[39msum()\u001b[39m.\u001b[39mplot(kind\u001b[39m=\u001b[39m\u001b[39m\"\u001b[39m\u001b[39mline\u001b[39m\u001b[39m\"\u001b[39m)\n\u001b[1;32m----> <a href='vscode-notebook-cell:/c%3A/Users/USER/code/fav007/DGD/plitech/data_analysis.ipynb#W4sZmlsZQ%3D%3D?line=1'>2</a>\u001b[0m df2[\u001b[39m'\u001b[39;49m\u001b[39mtotal_frais_pliage\t\u001b[39;49m\u001b[39m'\u001b[39;49m]\u001b[39m.\u001b[39mresample(\u001b[39m'\u001b[39m\u001b[39mM\u001b[39m\u001b[39m'\u001b[39m)\u001b[39m.\u001b[39msum()\u001b[39m.\u001b[39mplot(kind\u001b[39m=\u001b[39m\u001b[39m\"\u001b[39m\u001b[39mline\u001b[39m\u001b[39m\"\u001b[39m)\n",
      "File \u001b[1;32mc:\\Users\\USER\\anaconda3\\envs\\dashboard\\Lib\\site-packages\\pandas\\core\\frame.py:3807\u001b[0m, in \u001b[0;36mDataFrame.__getitem__\u001b[1;34m(self, key)\u001b[0m\n\u001b[0;32m   3805\u001b[0m \u001b[39mif\u001b[39;00m \u001b[39mself\u001b[39m\u001b[39m.\u001b[39mcolumns\u001b[39m.\u001b[39mnlevels \u001b[39m>\u001b[39m \u001b[39m1\u001b[39m:\n\u001b[0;32m   3806\u001b[0m     \u001b[39mreturn\u001b[39;00m \u001b[39mself\u001b[39m\u001b[39m.\u001b[39m_getitem_multilevel(key)\n\u001b[1;32m-> 3807\u001b[0m indexer \u001b[39m=\u001b[39m \u001b[39mself\u001b[39;49m\u001b[39m.\u001b[39;49mcolumns\u001b[39m.\u001b[39;49mget_loc(key)\n\u001b[0;32m   3808\u001b[0m \u001b[39mif\u001b[39;00m is_integer(indexer):\n\u001b[0;32m   3809\u001b[0m     indexer \u001b[39m=\u001b[39m [indexer]\n",
      "File \u001b[1;32mc:\\Users\\USER\\anaconda3\\envs\\dashboard\\Lib\\site-packages\\pandas\\core\\indexes\\base.py:3804\u001b[0m, in \u001b[0;36mIndex.get_loc\u001b[1;34m(self, key, method, tolerance)\u001b[0m\n\u001b[0;32m   3802\u001b[0m     \u001b[39mreturn\u001b[39;00m \u001b[39mself\u001b[39m\u001b[39m.\u001b[39m_engine\u001b[39m.\u001b[39mget_loc(casted_key)\n\u001b[0;32m   3803\u001b[0m \u001b[39mexcept\u001b[39;00m \u001b[39mKeyError\u001b[39;00m \u001b[39mas\u001b[39;00m err:\n\u001b[1;32m-> 3804\u001b[0m     \u001b[39mraise\u001b[39;00m \u001b[39mKeyError\u001b[39;00m(key) \u001b[39mfrom\u001b[39;00m \u001b[39merr\u001b[39;00m\n\u001b[0;32m   3805\u001b[0m \u001b[39mexcept\u001b[39;00m \u001b[39mTypeError\u001b[39;00m:\n\u001b[0;32m   3806\u001b[0m     \u001b[39m# If we have a listlike key, _check_indexing_error will raise\u001b[39;00m\n\u001b[0;32m   3807\u001b[0m     \u001b[39m#  InvalidIndexError. Otherwise we fall through and re-raise\u001b[39;00m\n\u001b[0;32m   3808\u001b[0m     \u001b[39m#  the TypeError.\u001b[39;00m\n\u001b[0;32m   3809\u001b[0m     \u001b[39mself\u001b[39m\u001b[39m.\u001b[39m_check_indexing_error(key)\n",
      "\u001b[1;31mKeyError\u001b[0m: 'total_frais_pliage\\t'"
     ]
    },
    {
     "data": {
      "image/png": "[encoded data removed]",
      "text/plain": [
       "<Figure size 640x480 with 1 Axes>"
      ]
     },
     "metadata": {},
     "output_type": "display_data"
    }
   ],
   "source": [
    "df2['ca'].resample('M').sum().plot(kind=\"line\")\n",
    "df2['total_frais_pliage'].resample('M').sum().plot(kind=\"line\")"
   ]
  },
  {
   "cell_type": "code",
   "execution_count": 15,
   "metadata": {},
   "outputs": [
    {
     "name": "stderr",
     "output_type": "stream",
     "text": [
      "C:\\Users\\USER\\AppData\\Local\\Temp\\ipykernel_10288\\1803911580.py:1: FutureWarning: The default value of numeric_only in DataFrameGroupBy.sum is deprecated. In a future version, numeric_only will default to False. Either specify numeric_only or select only columns which should be valid for the function.\n",
      "  df2.resample('W').sum()[[\"total_frais_pliage\"]].plot(kind=\"line\")\n"
     ]
    },
    {
     "data": {
      "text/plain": [
       "<AxesSubplot: xlabel='date_arrivé'>"
      ]
     },
     "execution_count": 15,
     "metadata": {},
     "output_type": "execute_result"
    },
    {
     "data": {
      "image/png": "[encoded data removed]",
      "text/plain": [
       "<Figure size 640x480 with 1 Axes>"
      ]
     },
     "metadata": {},
     "output_type": "display_data"
    }
   ],
   "source": [
    "df2.resample('W').sum()[[\"total_frais_pliage\"]].plot(kind=\"line\")"
   ]
  },
  {
   "cell_type": "code",
   "execution_count": 44,
   "metadata": {},
   "outputs": [],
   "source": []
  },
  {
   "cell_type": "code",
   "execution_count": 16,
   "metadata": {},
   "outputs": [
    {
     "data": {
      "text/plain": [
       "21920.338983050846"
      ]
     },
     "execution_count": 16,
     "metadata": {},
     "output_type": "execute_result"
    }
   ],
   "source": [
    "df1.total_frais_pliage.sort_values(ascending=False).mean()"
   ]
  },
  {
   "cell_type": "code",
   "execution_count": 17,
   "metadata": {},
   "outputs": [
    {
     "data": {
      "text/html": [
       "<div>\n",
       "<style scoped>\n",
       "    .dataframe tbody tr th:only-of-type {\n",
       "        vertical-align: middle;\n",
       "    }\n",
       "\n",
       "    .dataframe tbody tr th {\n",
       "        vertical-align: top;\n",
       "    }\n",
       "\n",
       "    .dataframe thead th {\n",
       "        text-align: right;\n",
       "    }\n",
       "</style>\n",
       "<table border=\"1\" class=\"dataframe\">\n",
       "  <thead>\n",
       "    <tr style=\"text-align: right;\">\n",
       "      <th></th>\n",
       "      <th>qty</th>\n",
       "      <th>is_plain</th>\n",
       "      <th>longueur</th>\n",
       "      <th>largeur</th>\n",
       "      <th>type</th>\n",
       "      <th>epaisseur</th>\n",
       "      <th>nom_client</th>\n",
       "      <th>date_arrivé</th>\n",
       "      <th>heure_arrivé</th>\n",
       "      <th>total_vente_tole</th>\n",
       "      <th>total_frais_pliage</th>\n",
       "      <th>total_remise</th>\n",
       "      <th>total_chute</th>\n",
       "      <th>num_facture</th>\n",
       "      <th>qty_tole</th>\n",
       "      <th>epaisseur_order</th>\n",
       "      <th>is_item_sold</th>\n",
       "    </tr>\n",
       "  </thead>\n",
       "  <tbody>\n",
       "    <tr>\n",
       "      <th>198</th>\n",
       "      <td>1</td>\n",
       "      <td>Oui</td>\n",
       "      <td>2000</td>\n",
       "      <td>180</td>\n",
       "      <td>TPN</td>\n",
       "      <td>8/10</td>\n",
       "      <td>KEVIN</td>\n",
       "      <td>2023-05-08</td>\n",
       "      <td>14:30:00</td>\n",
       "      <td>0</td>\n",
       "      <td>5800</td>\n",
       "      <td>0</td>\n",
       "      <td>0.0</td>\n",
       "      <td>62</td>\n",
       "      <td>0.1800</td>\n",
       "      <td>NaN</td>\n",
       "      <td>Non</td>\n",
       "    </tr>\n",
       "    <tr>\n",
       "      <th>199</th>\n",
       "      <td>1</td>\n",
       "      <td>Oui</td>\n",
       "      <td>2000</td>\n",
       "      <td>200</td>\n",
       "      <td>TPN</td>\n",
       "      <td>12/10</td>\n",
       "      <td>LOVA</td>\n",
       "      <td>2023-05-11</td>\n",
       "      <td>12:23:00</td>\n",
       "      <td>0</td>\n",
       "      <td>3900</td>\n",
       "      <td>0</td>\n",
       "      <td>0.0</td>\n",
       "      <td>63</td>\n",
       "      <td>0.2000</td>\n",
       "      <td>NaN</td>\n",
       "      <td>Non</td>\n",
       "    </tr>\n",
       "    <tr>\n",
       "      <th>200</th>\n",
       "      <td>2</td>\n",
       "      <td>Oui</td>\n",
       "      <td>660</td>\n",
       "      <td>500</td>\n",
       "      <td>TPN</td>\n",
       "      <td>10/10</td>\n",
       "      <td>ROLAND</td>\n",
       "      <td>2023-05-11</td>\n",
       "      <td>12:24:00</td>\n",
       "      <td>0</td>\n",
       "      <td>18000</td>\n",
       "      <td>0</td>\n",
       "      <td>0.0</td>\n",
       "      <td>64</td>\n",
       "      <td>0.3300</td>\n",
       "      <td>NaN</td>\n",
       "      <td>Non</td>\n",
       "    </tr>\n",
       "    <tr>\n",
       "      <th>201</th>\n",
       "      <td>3</td>\n",
       "      <td>Oui</td>\n",
       "      <td>1000</td>\n",
       "      <td>80</td>\n",
       "      <td>TPN</td>\n",
       "      <td>12/10</td>\n",
       "      <td>NELSON</td>\n",
       "      <td>2023-05-11</td>\n",
       "      <td>12:25:00</td>\n",
       "      <td>0</td>\n",
       "      <td>9000</td>\n",
       "      <td>0</td>\n",
       "      <td>0.0</td>\n",
       "      <td>65</td>\n",
       "      <td>0.1200</td>\n",
       "      <td>NaN</td>\n",
       "      <td>Non</td>\n",
       "    </tr>\n",
       "    <tr>\n",
       "      <th>202</th>\n",
       "      <td>1</td>\n",
       "      <td>Oui</td>\n",
       "      <td>1500</td>\n",
       "      <td>410</td>\n",
       "      <td>TPN</td>\n",
       "      <td>10/10</td>\n",
       "      <td>KEVIN</td>\n",
       "      <td>2023-05-12</td>\n",
       "      <td>12:27:00</td>\n",
       "      <td>0</td>\n",
       "      <td>10000</td>\n",
       "      <td>0</td>\n",
       "      <td>0.0</td>\n",
       "      <td>66</td>\n",
       "      <td>0.3075</td>\n",
       "      <td>NaN</td>\n",
       "      <td>Non</td>\n",
       "    </tr>\n",
       "    <tr>\n",
       "      <th>203</th>\n",
       "      <td>1</td>\n",
       "      <td>Oui</td>\n",
       "      <td>2000</td>\n",
       "      <td>200</td>\n",
       "      <td>TPP</td>\n",
       "      <td>30/100</td>\n",
       "      <td>FINARITRA</td>\n",
       "      <td>2023-05-17</td>\n",
       "      <td>12:28:00</td>\n",
       "      <td>0</td>\n",
       "      <td>9000</td>\n",
       "      <td>0</td>\n",
       "      <td>0.0</td>\n",
       "      <td>67</td>\n",
       "      <td>0.2000</td>\n",
       "      <td>NaN</td>\n",
       "      <td>Non</td>\n",
       "    </tr>\n",
       "    <tr>\n",
       "      <th>204</th>\n",
       "      <td>1</td>\n",
       "      <td>Non</td>\n",
       "      <td>2000</td>\n",
       "      <td>1000</td>\n",
       "      <td>TPN</td>\n",
       "      <td>12/10</td>\n",
       "      <td>JOHARY</td>\n",
       "      <td>2023-05-19</td>\n",
       "      <td>12:29:00</td>\n",
       "      <td>0</td>\n",
       "      <td>10000</td>\n",
       "      <td>0</td>\n",
       "      <td>0.0</td>\n",
       "      <td>68</td>\n",
       "      <td>1.0000</td>\n",
       "      <td>NaN</td>\n",
       "      <td>Non</td>\n",
       "    </tr>\n",
       "    <tr>\n",
       "      <th>205</th>\n",
       "      <td>1</td>\n",
       "      <td>Non</td>\n",
       "      <td>2000</td>\n",
       "      <td>1000</td>\n",
       "      <td>TPN</td>\n",
       "      <td>15/10</td>\n",
       "      <td>ZO</td>\n",
       "      <td>2023-05-19</td>\n",
       "      <td>11:45:00</td>\n",
       "      <td>0</td>\n",
       "      <td>34400</td>\n",
       "      <td>0</td>\n",
       "      <td>0.0</td>\n",
       "      <td>69</td>\n",
       "      <td>1.0000</td>\n",
       "      <td>NaN</td>\n",
       "      <td>Non</td>\n",
       "    </tr>\n",
       "    <tr>\n",
       "      <th>206</th>\n",
       "      <td>1</td>\n",
       "      <td>Non</td>\n",
       "      <td>2000</td>\n",
       "      <td>1000</td>\n",
       "      <td>TPN</td>\n",
       "      <td>2mm</td>\n",
       "      <td>ZO</td>\n",
       "      <td>2023-05-19</td>\n",
       "      <td>11:45:00</td>\n",
       "      <td>0</td>\n",
       "      <td>34400</td>\n",
       "      <td>0</td>\n",
       "      <td>0.0</td>\n",
       "      <td>69</td>\n",
       "      <td>1.0000</td>\n",
       "      <td>NaN</td>\n",
       "      <td>Non</td>\n",
       "    </tr>\n",
       "    <tr>\n",
       "      <th>207</th>\n",
       "      <td>1</td>\n",
       "      <td>Non</td>\n",
       "      <td>2000</td>\n",
       "      <td>1000</td>\n",
       "      <td>TPN</td>\n",
       "      <td>10/10</td>\n",
       "      <td>ZO</td>\n",
       "      <td>2023-05-22</td>\n",
       "      <td>14:42:00</td>\n",
       "      <td>0</td>\n",
       "      <td>4800</td>\n",
       "      <td>0</td>\n",
       "      <td>0.0</td>\n",
       "      <td>70</td>\n",
       "      <td>1.0000</td>\n",
       "      <td>NaN</td>\n",
       "      <td>Non</td>\n",
       "    </tr>\n",
       "  </tbody>\n",
       "</table>\n",
       "</div>"
      ],
      "text/plain": [
       "     qty is_plain  longueur  largeur type epaisseur nom_client date_arrivé  \\\n",
       "198    1      Oui      2000      180  TPN      8/10      KEVIN  2023-05-08   \n",
       "199    1      Oui      2000      200  TPN     12/10       LOVA  2023-05-11   \n",
       "200    2      Oui       660      500  TPN     10/10     ROLAND  2023-05-11   \n",
       "201    3      Oui      1000       80  TPN     12/10     NELSON  2023-05-11   \n",
       "202    1      Oui      1500      410  TPN     10/10      KEVIN  2023-05-12   \n",
       "203    1      Oui      2000      200  TPP    30/100  FINARITRA  2023-05-17   \n",
       "204    1      Non      2000     1000  TPN     12/10     JOHARY  2023-05-19   \n",
       "205    1      Non      2000     1000  TPN     15/10         ZO  2023-05-19   \n",
       "206    1      Non      2000     1000  TPN       2mm         ZO  2023-05-19   \n",
       "207    1      Non      2000     1000  TPN     10/10         ZO  2023-05-22   \n",
       "\n",
       "    heure_arrivé  total_vente_tole  total_frais_pliage  total_remise  \\\n",
       "198     14:30:00                 0                5800             0   \n",
       "199     12:23:00                 0                3900             0   \n",
       "200     12:24:00                 0               18000             0   \n",
       "201     12:25:00                 0                9000             0   \n",
       "202     12:27:00                 0               10000             0   \n",
       "203     12:28:00                 0                9000             0   \n",
       "204     12:29:00                 0               10000             0   \n",
       "205     11:45:00                 0               34400             0   \n",
       "206     11:45:00                 0               34400             0   \n",
       "207     14:42:00                 0                4800             0   \n",
       "\n",
       "     total_chute  num_facture  qty_tole  epaisseur_order is_item_sold  \n",
       "198          0.0           62    0.1800              NaN          Non  \n",
       "199          0.0           63    0.2000              NaN          Non  \n",
       "200          0.0           64    0.3300              NaN          Non  \n",
       "201          0.0           65    0.1200              NaN          Non  \n",
       "202          0.0           66    0.3075              NaN          Non  \n",
       "203          0.0           67    0.2000              NaN          Non  \n",
       "204          0.0           68    1.0000              NaN          Non  \n",
       "205          0.0           69    1.0000              NaN          Non  \n",
       "206          0.0           69    1.0000              NaN          Non  \n",
       "207          0.0           70    1.0000              NaN          Non  "
      ]
     },
     "execution_count": 17,
     "metadata": {},
     "output_type": "execute_result"
    }
   ],
   "source": [
    "df.tail(10)"
   ]
  },
  {
   "cell_type": "code",
   "execution_count": 18,
   "metadata": {},
   "outputs": [
    {
     "data": {
      "text/html": [
       "<div>\n",
       "<style scoped>\n",
       "    .dataframe tbody tr th:only-of-type {\n",
       "        vertical-align: middle;\n",
       "    }\n",
       "\n",
       "    .dataframe tbody tr th {\n",
       "        vertical-align: top;\n",
       "    }\n",
       "\n",
       "    .dataframe thead th {\n",
       "        text-align: right;\n",
       "    }\n",
       "</style>\n",
       "<table border=\"1\" class=\"dataframe\">\n",
       "  <thead>\n",
       "    <tr style=\"text-align: right;\">\n",
       "      <th></th>\n",
       "      <th>nom_client</th>\n",
       "      <th>date_arrivé</th>\n",
       "      <th>heure_arrivé</th>\n",
       "      <th>num_facture</th>\n",
       "      <th>qty_tole</th>\n",
       "      <th>total_vente_tole</th>\n",
       "      <th>total_frais_pliage</th>\n",
       "      <th>total_remise</th>\n",
       "      <th>total_chute</th>\n",
       "      <th>frais_pliage_by_tole</th>\n",
       "    </tr>\n",
       "  </thead>\n",
       "  <tbody>\n",
       "    <tr>\n",
       "      <th>35</th>\n",
       "      <td>HAJA</td>\n",
       "      <td>2023-07-07</td>\n",
       "      <td>20:17:00</td>\n",
       "      <td>153.0</td>\n",
       "      <td>14.0</td>\n",
       "      <td>0.0</td>\n",
       "      <td>214000.0</td>\n",
       "      <td>0.0</td>\n",
       "      <td>0.463000</td>\n",
       "      <td>15000.000000</td>\n",
       "    </tr>\n",
       "    <tr>\n",
       "      <th>97</th>\n",
       "      <td>MBOLA</td>\n",
       "      <td>2023-03-21</td>\n",
       "      <td>11:49:00</td>\n",
       "      <td>23.0</td>\n",
       "      <td>7.0</td>\n",
       "      <td>0.0</td>\n",
       "      <td>105000.0</td>\n",
       "      <td>0.0</td>\n",
       "      <td>0.000000</td>\n",
       "      <td>12000.000000</td>\n",
       "    </tr>\n",
       "    <tr>\n",
       "      <th>79</th>\n",
       "      <td>LIVA</td>\n",
       "      <td>2023-07-25</td>\n",
       "      <td>11:08:00</td>\n",
       "      <td>184.0</td>\n",
       "      <td>7.0</td>\n",
       "      <td>490000.0</td>\n",
       "      <td>90000.0</td>\n",
       "      <td>26500.0</td>\n",
       "      <td>0.004356</td>\n",
       "      <td>15000.000000</td>\n",
       "    </tr>\n",
       "    <tr>\n",
       "      <th>173</th>\n",
       "      <td>ZO</td>\n",
       "      <td>2023-07-03</td>\n",
       "      <td>19:38:00</td>\n",
       "      <td>101.0</td>\n",
       "      <td>2.0</td>\n",
       "      <td>0.0</td>\n",
       "      <td>80100.0</td>\n",
       "      <td>0.0</td>\n",
       "      <td>0.725000</td>\n",
       "      <td>2275.600506</td>\n",
       "    </tr>\n",
       "    <tr>\n",
       "      <th>46</th>\n",
       "      <td>JOHARY</td>\n",
       "      <td>2023-03-31</td>\n",
       "      <td>00:00:00</td>\n",
       "      <td>33.0</td>\n",
       "      <td>7.0</td>\n",
       "      <td>0.0</td>\n",
       "      <td>77000.0</td>\n",
       "      <td>0.0</td>\n",
       "      <td>0.000000</td>\n",
       "      <td>15000.000000</td>\n",
       "    </tr>\n",
       "  </tbody>\n",
       "</table>\n",
       "</div>"
      ],
      "text/plain": [
       "    nom_client date_arrivé heure_arrivé  num_facture  qty_tole  \\\n",
       "35        HAJA  2023-07-07     20:17:00        153.0      14.0   \n",
       "97       MBOLA  2023-03-21     11:49:00         23.0       7.0   \n",
       "79        LIVA  2023-07-25     11:08:00        184.0       7.0   \n",
       "173         ZO  2023-07-03     19:38:00        101.0       2.0   \n",
       "46      JOHARY  2023-03-31     00:00:00         33.0       7.0   \n",
       "\n",
       "     total_vente_tole  total_frais_pliage  total_remise  total_chute  \\\n",
       "35                0.0            214000.0           0.0     0.463000   \n",
       "97                0.0            105000.0           0.0     0.000000   \n",
       "79           490000.0             90000.0       26500.0     0.004356   \n",
       "173               0.0             80100.0           0.0     0.725000   \n",
       "46                0.0             77000.0           0.0     0.000000   \n",
       "\n",
       "     frais_pliage_by_tole  \n",
       "35           15000.000000  \n",
       "97           12000.000000  \n",
       "79           15000.000000  \n",
       "173           2275.600506  \n",
       "46           15000.000000  "
      ]
     },
     "execution_count": 18,
     "metadata": {},
     "output_type": "execute_result"
    }
   ],
   "source": [
    "\n",
    "df1.sort_values(by='total_frais_pliage',ascending=False).head()\n"
   ]
  },
  {
   "cell_type": "code",
   "execution_count": 20,
   "metadata": {},
   "outputs": [
    {
     "ename": "KeyError",
     "evalue": "'juin'",
     "output_type": "error",
     "traceback": [
      "\u001b[1;31m---------------------------------------------------------------------------\u001b[0m",
      "\u001b[1;31mKeyError\u001b[0m                                  Traceback (most recent call last)",
      "File \u001b[1;32mc:\\Users\\USER\\anaconda3\\envs\\dashboard\\Lib\\site-packages\\pandas\\core\\indexes\\base.py:3802\u001b[0m, in \u001b[0;36mIndex.get_loc\u001b[1;34m(self, key, method, tolerance)\u001b[0m\n\u001b[0;32m   3801\u001b[0m \u001b[39mtry\u001b[39;00m:\n\u001b[1;32m-> 3802\u001b[0m     \u001b[39mreturn\u001b[39;00m \u001b[39mself\u001b[39;49m\u001b[39m.\u001b[39;49m_engine\u001b[39m.\u001b[39;49mget_loc(casted_key)\n\u001b[0;32m   3803\u001b[0m \u001b[39mexcept\u001b[39;00m \u001b[39mKeyError\u001b[39;00m \u001b[39mas\u001b[39;00m err:\n",
      "File \u001b[1;32mc:\\Users\\USER\\anaconda3\\envs\\dashboard\\Lib\\site-packages\\pandas\\_libs\\index.pyx:138\u001b[0m, in \u001b[0;36mpandas._libs.index.IndexEngine.get_loc\u001b[1;34m()\u001b[0m\n",
      "File \u001b[1;32mc:\\Users\\USER\\anaconda3\\envs\\dashboard\\Lib\\site-packages\\pandas\\_libs\\index.pyx:165\u001b[0m, in \u001b[0;36mpandas._libs.index.IndexEngine.get_loc\u001b[1;34m()\u001b[0m\n",
      "File \u001b[1;32mpandas\\_libs\\hashtable_class_helper.pxi:5745\u001b[0m, in \u001b[0;36mpandas._libs.hashtable.PyObjectHashTable.get_item\u001b[1;34m()\u001b[0m\n",
      "File \u001b[1;32mpandas\\_libs\\hashtable_class_helper.pxi:5753\u001b[0m, in \u001b[0;36mpandas._libs.hashtable.PyObjectHashTable.get_item\u001b[1;34m()\u001b[0m\n",
      "\u001b[1;31mKeyError\u001b[0m: 'juin'",
      "\nThe above exception was the direct cause of the following exception:\n",
      "\u001b[1;31mKeyError\u001b[0m                                  Traceback (most recent call last)",
      "\u001b[1;32mc:\\Users\\USER\\code\\fav007\\DGD\\plitech\\data_analysis.ipynb Cell 11\u001b[0m in \u001b[0;36m1\n\u001b[1;32m----> <a href='vscode-notebook-cell:/c%3A/Users/USER/code/fav007/DGD/plitech/data_analysis.ipynb#X13sZmlsZQ%3D%3D?line=0'>1</a>\u001b[0m df1\u001b[39m.\u001b[39;49mset_index(\u001b[39m'\u001b[39;49m\u001b[39mdate_arrivé\u001b[39;49m\u001b[39m'\u001b[39;49m)[\u001b[39m'\u001b[39;49m\u001b[39mjuin\u001b[39;49m\u001b[39m'\u001b[39;49m]\n",
      "File \u001b[1;32mc:\\Users\\USER\\anaconda3\\envs\\dashboard\\Lib\\site-packages\\pandas\\core\\frame.py:3807\u001b[0m, in \u001b[0;36mDataFrame.__getitem__\u001b[1;34m(self, key)\u001b[0m\n\u001b[0;32m   3805\u001b[0m \u001b[39mif\u001b[39;00m \u001b[39mself\u001b[39m\u001b[39m.\u001b[39mcolumns\u001b[39m.\u001b[39mnlevels \u001b[39m>\u001b[39m \u001b[39m1\u001b[39m:\n\u001b[0;32m   3806\u001b[0m     \u001b[39mreturn\u001b[39;00m \u001b[39mself\u001b[39m\u001b[39m.\u001b[39m_getitem_multilevel(key)\n\u001b[1;32m-> 3807\u001b[0m indexer \u001b[39m=\u001b[39m \u001b[39mself\u001b[39;49m\u001b[39m.\u001b[39;49mcolumns\u001b[39m.\u001b[39;49mget_loc(key)\n\u001b[0;32m   3808\u001b[0m \u001b[39mif\u001b[39;00m is_integer(indexer):\n\u001b[0;32m   3809\u001b[0m     indexer \u001b[39m=\u001b[39m [indexer]\n",
      "File \u001b[1;32mc:\\Users\\USER\\anaconda3\\envs\\dashboard\\Lib\\site-packages\\pandas\\core\\indexes\\base.py:3804\u001b[0m, in \u001b[0;36mIndex.get_loc\u001b[1;34m(self, key, method, tolerance)\u001b[0m\n\u001b[0;32m   3802\u001b[0m     \u001b[39mreturn\u001b[39;00m \u001b[39mself\u001b[39m\u001b[39m.\u001b[39m_engine\u001b[39m.\u001b[39mget_loc(casted_key)\n\u001b[0;32m   3803\u001b[0m \u001b[39mexcept\u001b[39;00m \u001b[39mKeyError\u001b[39;00m \u001b[39mas\u001b[39;00m err:\n\u001b[1;32m-> 3804\u001b[0m     \u001b[39mraise\u001b[39;00m \u001b[39mKeyError\u001b[39;00m(key) \u001b[39mfrom\u001b[39;00m \u001b[39merr\u001b[39;00m\n\u001b[0;32m   3805\u001b[0m \u001b[39mexcept\u001b[39;00m \u001b[39mTypeError\u001b[39;00m:\n\u001b[0;32m   3806\u001b[0m     \u001b[39m# If we have a listlike key, _check_indexing_error will raise\u001b[39;00m\n\u001b[0;32m   3807\u001b[0m     \u001b[39m#  InvalidIndexError. Otherwise we fall through and re-raise\u001b[39;00m\n\u001b[0;32m   3808\u001b[0m     \u001b[39m#  the TypeError.\u001b[39;00m\n\u001b[0;32m   3809\u001b[0m     \u001b[39mself\u001b[39m\u001b[39m.\u001b[39m_check_indexing_error(key)\n",
      "\u001b[1;31mKeyError\u001b[0m: 'juin'"
     ]
    }
   ],
   "source": [
    "df1.set_index('date_arrivé')['juin']"
   ]
  },
  {
   "cell_type": "code",
   "execution_count": 6,
   "metadata": {},
   "outputs": [
    {
     "data": {
      "text/plain": [
       "19857.892241355265"
      ]
     },
     "execution_count": 6,
     "metadata": {},
     "output_type": "execute_result"
    }
   ],
   "source": [
    "(df1.total_frais_pliage/df1.qty_tole).mean()\n",
    "#df1.total_frais_pliage.sum()"
   ]
  },
  {
   "cell_type": "code",
   "execution_count": 7,
   "metadata": {},
   "outputs": [
    {
     "data": {
      "text/plain": [
       "168.71341750000002"
      ]
     },
     "execution_count": 7,
     "metadata": {},
     "output_type": "execute_result"
    }
   ],
   "source": [
    "(df1.qty_tole-df1.total_chute).sum()"
   ]
  },
  {
   "cell_type": "code",
   "execution_count": 8,
   "metadata": {},
   "outputs": [
    {
     "data": {
      "text/plain": [
       "<matplotlib.collections.PathCollection at 0x1d320099850>"
      ]
     },
     "execution_count": 8,
     "metadata": {},
     "output_type": "execute_result"
    },
    {
     "data": {
      "image/png": "[encoded data removed]",
      "text/plain": [
       "<Figure size 640x480 with 1 Axes>"
      ]
     },
     "metadata": {},
     "output_type": "display_data"
    }
   ],
   "source": [
    "plt.scatter(df1.qty_tole,df1.total_frais_pliage)"
   ]
  },
  {
   "cell_type": "code",
   "execution_count": 9,
   "metadata": {},
   "outputs": [
    {
     "data": {
      "text/plain": [
       "Index(['qty', 'is_plain', 'longueur', 'largeur', 'type', 'epaisseur',\n",
       "       'nom_client', 'date_arrivé', 'heure_arrivé', 'total_vente_tole',\n",
       "       'total_frais_pliage', 'total_remise', 'total_chute', 'num_facture',\n",
       "       'qty_tole'],\n",
       "      dtype='object')"
      ]
     },
     "execution_count": 9,
     "metadata": {},
     "output_type": "execute_result"
    }
   ],
   "source": [
    "df.columns"
   ]
  },
  {
   "cell_type": "code",
   "execution_count": 10,
   "metadata": {},
   "outputs": [
    {
     "data": {
      "image/png": "[encoded data removed]",
      "text/plain": [
       "<Figure size 1000x600 with 1 Axes>"
      ]
     },
     "metadata": {},
     "output_type": "display_data"
    }
   ],
   "source": [
    "grouped_data = df1.groupby('nom_client')['qty_tole'].sum()\n",
    "\n",
    "# Sort the data in descending order and select the top 10 clients\n",
    "top_10_clients = grouped_data.sort_values(ascending=False).head(15)\n",
    "\n",
    "# Plotting the results\n",
    "plt.figure(figsize=(10, 6))\n",
    "plt.bar(top_10_clients.index, top_10_clients.values)\n",
    "plt.xlabel('Client Names')\n",
    "plt.ylabel('Sum of qty_tole')\n",
    "plt.title('Top 10 Clients with the Highest Sum of qty_tole')\n",
    "plt.xticks(rotation=45, ha='right')\n",
    "plt.tight_layout()\n",
    "plt.show()"
   ]
  },
  {
   "cell_type": "code",
   "execution_count": 11,
   "metadata": {},
   "outputs": [
    {
     "data": {
      "image/png": "[encoded data removed]",
      "text/plain": [
       "<Figure size 1200x600 with 2 Axes>"
      ]
     },
     "metadata": {},
     "output_type": "display_data"
    }
   ],
   "source": [
    "grouped_data = df1.groupby('nom_client')\n",
    "\n",
    "# Step 2: Calculate the sum of 'qty_tole' and 'total_frais_pliage' for each 'nom_client'\n",
    "sum_qty_tole = grouped_data['qty_tole'].sum()\n",
    "sum_total_frais_pliage = grouped_data['total_frais_pliage'].sum()\n",
    "\n",
    "# Step 3: Combine the sums into a new DataFrame\n",
    "sum_df = pd.DataFrame({\n",
    "    'sum_qty_tole': sum_qty_tole,\n",
    "    'sum_total_frais_pliage': sum_total_frais_pliage\n",
    "})\n",
    "\n",
    "# Step 4: Sort the data based on the calculated sums in descending order\n",
    "sum_df = sum_df.sort_values(by=['sum_qty_tole', 'sum_total_frais_pliage'], ascending=False)\n",
    "\n",
    "# Step 5: Extract the top 10 'nom_client' based on the sums\n",
    "top_10_clients = sum_df.head(15)\n",
    "\n",
    "# Step 6: Plot the results\n",
    "plt.figure(figsize=(12, 6))\n",
    "\n",
    "plt.subplot(1, 2, 1)\n",
    "plt.bar(top_10_clients.index, top_10_clients['sum_qty_tole'])\n",
    "plt.xticks(rotation=45, ha='right')\n",
    "plt.xlabel('Nom Client')\n",
    "plt.ylabel('Sum of qty_tole')\n",
    "plt.title('Top 10 Nom Clients by Sum of qty_tole')\n",
    "\n",
    "plt.subplot(1, 2, 2)\n",
    "plt.bar(top_10_clients.index, top_10_clients['sum_total_frais_pliage'])\n",
    "plt.xticks(rotation=45, ha='right')\n",
    "plt.xlabel('Nom Client')\n",
    "plt.ylabel('Sum of total_frais_pliage')\n",
    "plt.title('Top 10 Nom Clients by Sum of total_frais_pliage')\n",
    "\n",
    "plt.tight_layout()\n",
    "plt.show()\n"
   ]
  },
  {
   "cell_type": "code",
   "execution_count": 12,
   "metadata": {},
   "outputs": [
    {
     "data": {
      "image/png": "[encoded data removed]",
      "text/plain": [
       "<Figure size 1000x600 with 1 Axes>"
      ]
     },
     "metadata": {},
     "output_type": "display_data"
    }
   ],
   "source": [
    "grouped_data = df1.groupby('nom_client')['total_frais_pliage'].sum()\n",
    "\n",
    "# Sort the data in descending order and select the top 10 clients\n",
    "top_10_clients = grouped_data.sort_values(ascending=False).head(15)\n",
    "\n",
    "# Plotting the results\n",
    "plt.figure(figsize=(10, 6))\n",
    "plt.bar(top_10_clients.index, top_10_clients.values)\n",
    "plt.xlabel('Client Names')\n",
    "plt.ylabel('Sum of qty_tole')\n",
    "plt.title('Top 10 Clients with the Highest Sum of qty_tole')\n",
    "plt.xticks(rotation=45, ha='right')\n",
    "plt.tight_layout()\n",
    "plt.show()"
   ]
  },
  {
   "cell_type": "code",
   "execution_count": 13,
   "metadata": {},
   "outputs": [
    {
     "data": {
      "application/vnd.plotly.v1+json": {
       "config": {
        "plotlyServerURL": "https://plot.ly"
       },
       "data": [
        {
         "alignmentgroup": "True",
         "hovertemplate": "nom_client=%{x}<br>total_frais_pliage=%{y}<extra></extra>",
         "legendgroup": "",
         "marker": {
          "color": "#636efa",
          "pattern": {
           "shape": ""
          }
         },
         "name": "",
         "offsetgroup": "",
         "orientation": "v",
         "showlegend": false,
         "textposition": "auto",
         "type": "bar",
         "x": [
          "RAHERY",
          "FANILO",
          "KEVIN",
          "MANAMPY",
          "JOHARY",
          "TINA",
          "BOSCO",
          "ZO",
          "MISA",
          "SAFIDY"
         ],
         "xaxis": "x",
         "y": [
          304100,
          243800,
          195200,
          170000,
          121000,
          114000,
          110600,
          105500,
          79800,
          69000
         ],
         "yaxis": "y"
        }
       ],
       "layout": {
        "barmode": "relative",
        "legend": {
         "tracegroupgap": 0
        },
        "template": {
         "data": {
          "bar": [
           {
            "error_x": {
             "color": "#2a3f5f"
            },
            "error_y": {
             "color": "#2a3f5f"
            },
            "marker": {
             "line": {
              "color": "#E5ECF6",
              "width": 0.5
             },
             "pattern": {
              "fillmode": "overlay",
              "size": 10,
              "solidity": 0.2
             }
            },
            "type": "bar"
           }
          ],
          "barpolar": [
           {
            "marker": {
             "line": {
              "color": "#E5ECF6",
              "width": 0.5
             },
             "pattern": {
              "fillmode": "overlay",
              "size": 10,
              "solidity": 0.2
             }
            },
            "type": "barpolar"
           }
          ],
          "carpet": [
           {
            "aaxis": {
             "endlinecolor": "#2a3f5f",
             "gridcolor": "white",
             "linecolor": "white",
             "minorgridcolor": "white",
             "startlinecolor": "#2a3f5f"
            },
            "baxis": {
             "endlinecolor": "#2a3f5f",
             "gridcolor": "white",
             "linecolor": "white",
             "minorgridcolor": "white",
             "startlinecolor": "#2a3f5f"
            },
            "type": "carpet"
           }
          ],
          "choropleth": [
           {
            "colorbar": {
             "outlinewidth": 0,
             "ticks": ""
            },
            "type": "choropleth"
           }
          ],
          "contour": [
           {
            "colorbar": {
             "outlinewidth": 0,
             "ticks": ""
            },
            "colorscale": [
             [
              0,
              "#0d0887"
             ],
             [
              0.1111111111111111,
              "#46039f"
             ],
             [
              0.2222222222222222,
              "#7201a8"
             ],
             [
              0.3333333333333333,
              "#9c179e"
             ],
             [
              0.4444444444444444,
              "#bd3786"
             ],
             [
              0.5555555555555556,
              "#d8576b"
             ],
             [
              0.6666666666666666,
              "#ed7953"
             ],
             [
              0.7777777777777778,
              "#fb9f3a"
             ],
             [
              0.8888888888888888,
              "#fdca26"
             ],
             [
              1,
              "#f0f921"
             ]
            ],
            "type": "contour"
           }
          ],
          "contourcarpet": [
           {
            "colorbar": {
             "outlinewidth": 0,
             "ticks": ""
            },
            "type": "contourcarpet"
           }
          ],
          "heatmap": [
           {
            "colorbar": {
             "outlinewidth": 0,
             "ticks": ""
            },
            "colorscale": [
             [
              0,
              "#0d0887"
             ],
             [
              0.1111111111111111,
              "#46039f"
             ],
             [
              0.2222222222222222,
              "#7201a8"
             ],
             [
              0.3333333333333333,
              "#9c179e"
             ],
             [
              0.4444444444444444,
              "#bd3786"
             ],
             [
              0.5555555555555556,
              "#d8576b"
             ],
             [
              0.6666666666666666,
              "#ed7953"
             ],
             [
              0.7777777777777778,
              "#fb9f3a"
             ],
             [
              0.8888888888888888,
              "#fdca26"
             ],
             [
              1,
              "#f0f921"
             ]
            ],
            "type": "heatmap"
           }
          ],
          "heatmapgl": [
           {
            "colorbar": {
             "outlinewidth": 0,
             "ticks": ""
            },
            "colorscale": [
             [
              0,
              "#0d0887"
             ],
             [
              0.1111111111111111,
              "#46039f"
             ],
             [
              0.2222222222222222,
              "#7201a8"
             ],
             [
              0.3333333333333333,
              "#9c179e"
             ],
             [
              0.4444444444444444,
              "#bd3786"
             ],
             [
              0.5555555555555556,
              "#d8576b"
             ],
             [
              0.6666666666666666,
              "#ed7953"
             ],
             [
              0.7777777777777778,
              "#fb9f3a"
             ],
             [
              0.8888888888888888,
              "#fdca26"
             ],
             [
              1,
              "#f0f921"
             ]
            ],
            "type": "heatmapgl"
           }
          ],
          "histogram": [
           {
            "marker": {
             "pattern": {
              "fillmode": "overlay",
              "size": 10,
              "solidity": 0.2
             }
            },
            "type": "histogram"
           }
          ],
          "histogram2d": [
           {
            "colorbar": {
             "outlinewidth": 0,
             "ticks": ""
            },
            "colorscale": [
             [
              0,
              "#0d0887"
             ],
             [
              0.1111111111111111,
              "#46039f"
             ],
             [
              0.2222222222222222,
              "#7201a8"
             ],
             [
              0.3333333333333333,
              "#9c179e"
             ],
             [
              0.4444444444444444,
              "#bd3786"
             ],
             [
              0.5555555555555556,
              "#d8576b"
             ],
             [
              0.6666666666666666,
              "#ed7953"
             ],
             [
              0.7777777777777778,
              "#fb9f3a"
             ],
             [
              0.8888888888888888,
              "#fdca26"
             ],
             [
              1,
              "#f0f921"
             ]
            ],
            "type": "histogram2d"
           }
          ],
          "histogram2dcontour": [
           {
            "colorbar": {
             "outlinewidth": 0,
             "ticks": ""
            },
            "colorscale": [
             [
              0,
              "#0d0887"
             ],
             [
              0.1111111111111111,
              "#46039f"
             ],
             [
              0.2222222222222222,
              "#7201a8"
             ],
             [
              0.3333333333333333,
              "#9c179e"
             ],
             [
              0.4444444444444444,
              "#bd3786"
             ],
             [
              0.5555555555555556,
              "#d8576b"
             ],
             [
              0.6666666666666666,
              "#ed7953"
             ],
             [
              0.7777777777777778,
              "#fb9f3a"
             ],
             [
              0.8888888888888888,
              "#fdca26"
             ],
             [
              1,
              "#f0f921"
             ]
            ],
            "type": "histogram2dcontour"
           }
          ],
          "mesh3d": [
           {
            "colorbar": {
             "outlinewidth": 0,
             "ticks": ""
            },
            "type": "mesh3d"
           }
          ],
          "parcoords": [
           {
            "line": {
             "colorbar": {
              "outlinewidth": 0,
              "ticks": ""
             }
            },
            "type": "parcoords"
           }
          ],
          "pie": [
           {
            "automargin": true,
            "type": "pie"
           }
          ],
          "scatter": [
           {
            "fillpattern": {
             "fillmode": "overlay",
             "size": 10,
             "solidity": 0.2
            },
            "type": "scatter"
           }
          ],
          "scatter3d": [
           {
            "line": {
             "colorbar": {
              "outlinewidth": 0,
              "ticks": ""
             }
            },
            "marker": {
             "colorbar": {
              "outlinewidth": 0,
              "ticks": ""
             }
            },
            "type": "scatter3d"
           }
          ],
          "scattercarpet": [
           {
            "marker": {
             "colorbar": {
              "outlinewidth": 0,
              "ticks": ""
             }
            },
            "type": "scattercarpet"
           }
          ],
          "scattergeo": [
           {
            "marker": {
             "colorbar": {
              "outlinewidth": 0,
              "ticks": ""
             }
            },
            "type": "scattergeo"
           }
          ],
          "scattergl": [
           {
            "marker": {
             "colorbar": {
              "outlinewidth": 0,
              "ticks": ""
             }
            },
            "type": "scattergl"
           }
          ],
          "scattermapbox": [
           {
            "marker": {
             "colorbar": {
              "outlinewidth": 0,
              "ticks": ""
             }
            },
            "type": "scattermapbox"
           }
          ],
          "scatterpolar": [
           {
            "marker": {
             "colorbar": {
              "outlinewidth": 0,
              "ticks": ""
             }
            },
            "type": "scatterpolar"
           }
          ],
          "scatterpolargl": [
           {
            "marker": {
             "colorbar": {
              "outlinewidth": 0,
              "ticks": ""
             }
            },
            "type": "scatterpolargl"
           }
          ],
          "scatterternary": [
           {
            "marker": {
             "colorbar": {
              "outlinewidth": 0,
              "ticks": ""
             }
            },
            "type": "scatterternary"
           }
          ],
          "surface": [
           {
            "colorbar": {
             "outlinewidth": 0,
             "ticks": ""
            },
            "colorscale": [
             [
              0,
              "#0d0887"
             ],
             [
              0.1111111111111111,
              "#46039f"
             ],
             [
              0.2222222222222222,
              "#7201a8"
             ],
             [
              0.3333333333333333,
              "#9c179e"
             ],
             [
              0.4444444444444444,
              "#bd3786"
             ],
             [
              0.5555555555555556,
              "#d8576b"
             ],
             [
              0.6666666666666666,
              "#ed7953"
             ],
             [
              0.7777777777777778,
              "#fb9f3a"
             ],
             [
              0.8888888888888888,
              "#fdca26"
             ],
             [
              1,
              "#f0f921"
             ]
            ],
            "type": "surface"
           }
          ],
          "table": [
           {
            "cells": {
             "fill": {
              "color": "#EBF0F8"
             },
             "line": {
              "color": "white"
             }
            },
            "header": {
             "fill": {
              "color": "#C8D4E3"
             },
             "line": {
              "color": "white"
             }
            },
            "type": "table"
           }
          ]
         },
         "layout": {
          "annotationdefaults": {
           "arrowcolor": "#2a3f5f",
           "arrowhead": 0,
           "arrowwidth": 1
          },
          "autotypenumbers": "strict",
          "coloraxis": {
           "colorbar": {
            "outlinewidth": 0,
            "ticks": ""
           }
          },
          "colorscale": {
           "diverging": [
            [
             0,
             "#8e0152"
            ],
            [
             0.1,
             "#c51b7d"
            ],
            [
             0.2,
             "#de77ae"
            ],
            [
             0.3,
             "#f1b6da"
            ],
            [
             0.4,
             "#fde0ef"
            ],
            [
             0.5,
             "#f7f7f7"
            ],
            [
             0.6,
             "#e6f5d0"
            ],
            [
             0.7,
             "#b8e186"
            ],
            [
             0.8,
             "#7fbc41"
            ],
            [
             0.9,
             "#4d9221"
            ],
            [
             1,
             "#276419"
            ]
           ],
           "sequential": [
            [
             0,
             "#0d0887"
            ],
            [
             0.1111111111111111,
             "#46039f"
            ],
            [
             0.2222222222222222,
             "#7201a8"
            ],
            [
             0.3333333333333333,
             "#9c179e"
            ],
            [
             0.4444444444444444,
             "#bd3786"
            ],
            [
             0.5555555555555556,
             "#d8576b"
            ],
            [
             0.6666666666666666,
             "#ed7953"
            ],
            [
             0.7777777777777778,
             "#fb9f3a"
            ],
            [
             0.8888888888888888,
             "#fdca26"
            ],
            [
             1,
             "#f0f921"
            ]
           ],
           "sequentialminus": [
            [
             0,
             "#0d0887"
            ],
            [
             0.1111111111111111,
             "#46039f"
            ],
            [
             0.2222222222222222,
             "#7201a8"
            ],
            [
             0.3333333333333333,
             "#9c179e"
            ],
            [
             0.4444444444444444,
             "#bd3786"
            ],
            [
             0.5555555555555556,
             "#d8576b"
            ],
            [
             0.6666666666666666,
             "#ed7953"
            ],
            [
             0.7777777777777778,
             "#fb9f3a"
            ],
            [
             0.8888888888888888,
             "#fdca26"
            ],
            [
             1,
             "#f0f921"
            ]
           ]
          },
          "colorway": [
           "#636efa",
           "#EF553B",
           "#00cc96",
           "#ab63fa",
           "#FFA15A",
           "#19d3f3",
           "#FF6692",
           "#B6E880",
           "#FF97FF",
           "#FECB52"
          ],
          "font": {
           "color": "#2a3f5f"
          },
          "geo": {
           "bgcolor": "white",
           "lakecolor": "white",
           "landcolor": "#E5ECF6",
           "showlakes": true,
           "showland": true,
           "subunitcolor": "white"
          },
          "hoverlabel": {
           "align": "left"
          },
          "hovermode": "closest",
          "mapbox": {
           "style": "light"
          },
          "paper_bgcolor": "white",
          "plot_bgcolor": "#E5ECF6",
          "polar": {
           "angularaxis": {
            "gridcolor": "white",
            "linecolor": "white",
            "ticks": ""
           },
           "bgcolor": "#E5ECF6",
           "radialaxis": {
            "gridcolor": "white",
            "linecolor": "white",
            "ticks": ""
           }
          },
          "scene": {
           "xaxis": {
            "backgroundcolor": "#E5ECF6",
            "gridcolor": "white",
            "gridwidth": 2,
            "linecolor": "white",
            "showbackground": true,
            "ticks": "",
            "zerolinecolor": "white"
           },
           "yaxis": {
            "backgroundcolor": "#E5ECF6",
            "gridcolor": "white",
            "gridwidth": 2,
            "linecolor": "white",
            "showbackground": true,
            "ticks": "",
            "zerolinecolor": "white"
           },
           "zaxis": {
            "backgroundcolor": "#E5ECF6",
            "gridcolor": "white",
            "gridwidth": 2,
            "linecolor": "white",
            "showbackground": true,
            "ticks": "",
            "zerolinecolor": "white"
           }
          },
          "shapedefaults": {
           "line": {
            "color": "#2a3f5f"
           }
          },
          "ternary": {
           "aaxis": {
            "gridcolor": "white",
            "linecolor": "white",
            "ticks": ""
           },
           "baxis": {
            "gridcolor": "white",
            "linecolor": "white",
            "ticks": ""
           },
           "bgcolor": "#E5ECF6",
           "caxis": {
            "gridcolor": "white",
            "linecolor": "white",
            "ticks": ""
           }
          },
          "title": {
           "x": 0.05
          },
          "xaxis": {
           "automargin": true,
           "gridcolor": "white",
           "linecolor": "white",
           "ticks": "",
           "title": {
            "standoff": 15
           },
           "zerolinecolor": "white",
           "zerolinewidth": 2
          },
          "yaxis": {
           "automargin": true,
           "gridcolor": "white",
           "linecolor": "white",
           "ticks": "",
           "title": {
            "standoff": 15
           },
           "zerolinecolor": "white",
           "zerolinewidth": 2
          }
         }
        },
        "title": {
         "text": "Top 10 Nom Clients by Sum of qty_tole and total_frais_pliage"
        },
        "xaxis": {
         "anchor": "y",
         "domain": [
          0,
          1
         ],
         "tickangle": -45,
         "title": {
          "text": "nom_client"
         }
        },
        "yaxis": {
         "anchor": "x",
         "domain": [
          0,
          1
         ],
         "title": {
          "text": "total_frais_pliage"
         }
        }
       }
      }
     },
     "metadata": {},
     "output_type": "display_data"
    }
   ],
   "source": [
    "grouped_data = df1.groupby('nom_client')\n",
    "\n",
    "# Step 2: Calculate the sum of 'qty_tole' and 'total_frais_pliage' for each 'nom_client'\n",
    "sum_df = grouped_data['total_frais_pliage'].sum()\n",
    "\n",
    "\n",
    "# Step 4: Sort the data based on the calculated sums in descending order\n",
    "sum_df = sum_df.sort_values(ascending=False)\n",
    "# Step 5: Extract the top 10 'nom_client' based on the sums\n",
    "top_10_clients = sum_df.head(10).reset_index()\n",
    "\n",
    "# Step 6: Plot the results using Plotly Express\n",
    "fig = px.bar(top_10_clients, x='nom_client', y='total_frais_pliage',\n",
    "             title='Top 10 Nom Clients by Sum of qty_tole and total_frais_pliage',\n",
    "             labels={'value': 'Sum'})\n",
    "\n",
    "fig.update_layout(xaxis_tickangle=-45)\n",
    "fig.show()"
   ]
  },
  {
   "cell_type": "code",
   "execution_count": 14,
   "metadata": {},
   "outputs": [
    {
     "data": {
      "application/vnd.plotly.v1+json": {
       "config": {
        "plotlyServerURL": "https://plot.ly"
       },
       "data": [
        {
         "name": "Sum of total_frais_pliage",
         "type": "bar",
         "x": [
          "BOSCO",
          "RAHERY",
          "TINA",
          "FANILO",
          "MANAMPY",
          "KEVIN",
          "JOHARY",
          "MODESTE",
          "MISA",
          "SAFIDY"
         ],
         "xaxis": "x",
         "y": [
          110600,
          304100,
          114000,
          243800,
          170000,
          195200,
          121000,
          60000,
          79800,
          69000
         ],
         "yaxis": "y"
        },
        {
         "name": "Sum of qty_tole",
         "type": "bar",
         "x": [
          "BOSCO",
          "RAHERY",
          "TINA",
          "FANILO",
          "MANAMPY",
          "KEVIN",
          "JOHARY",
          "MODESTE",
          "MISA",
          "SAFIDY"
         ],
         "xaxis": "x",
         "y": [
          26,
          23.29,
          19.1875,
          18.5,
          16.36,
          14.7,
          8.09114,
          5.707,
          4.6094375,
          3.8
         ],
         "yaxis": "y2"
        }
       ],
       "layout": {
        "barmode": "group",
        "template": {
         "data": {
          "bar": [
           {
            "error_x": {
             "color": "#2a3f5f"
            },
            "error_y": {
             "color": "#2a3f5f"
            },
            "marker": {
             "line": {
              "color": "#E5ECF6",
              "width": 0.5
             },
             "pattern": {
              "fillmode": "overlay",
              "size": 10,
              "solidity": 0.2
             }
            },
            "type": "bar"
           }
          ],
          "barpolar": [
           {
            "marker": {
             "line": {
              "color": "#E5ECF6",
              "width": 0.5
             },
             "pattern": {
              "fillmode": "overlay",
              "size": 10,
              "solidity": 0.2
             }
            },
            "type": "barpolar"
           }
          ],
          "carpet": [
           {
            "aaxis": {
             "endlinecolor": "#2a3f5f",
             "gridcolor": "white",
             "linecolor": "white",
             "minorgridcolor": "white",
             "startlinecolor": "#2a3f5f"
            },
            "baxis": {
             "endlinecolor": "#2a3f5f",
             "gridcolor": "white",
             "linecolor": "white",
             "minorgridcolor": "white",
             "startlinecolor": "#2a3f5f"
            },
            "type": "carpet"
           }
          ],
          "choropleth": [
           {
            "colorbar": {
             "outlinewidth": 0,
             "ticks": ""
            },
            "type": "choropleth"
           }
          ],
          "contour": [
           {
            "colorbar": {
             "outlinewidth": 0,
             "ticks": ""
            },
            "colorscale": [
             [
              0,
              "#0d0887"
             ],
             [
              0.1111111111111111,
              "#46039f"
             ],
             [
              0.2222222222222222,
              "#7201a8"
             ],
             [
              0.3333333333333333,
              "#9c179e"
             ],
             [
              0.4444444444444444,
              "#bd3786"
             ],
             [
              0.5555555555555556,
              "#d8576b"
             ],
             [
              0.6666666666666666,
              "#ed7953"
             ],
             [
              0.7777777777777778,
              "#fb9f3a"
             ],
             [
              0.8888888888888888,
              "#fdca26"
             ],
             [
              1,
              "#f0f921"
             ]
            ],
            "type": "contour"
           }
          ],
          "contourcarpet": [
           {
            "colorbar": {
             "outlinewidth": 0,
             "ticks": ""
            },
            "type": "contourcarpet"
           }
          ],
          "heatmap": [
           {
            "colorbar": {
             "outlinewidth": 0,
             "ticks": ""
            },
            "colorscale": [
             [
              0,
              "#0d0887"
             ],
             [
              0.1111111111111111,
              "#46039f"
             ],
             [
              0.2222222222222222,
              "#7201a8"
             ],
             [
              0.3333333333333333,
              "#9c179e"
             ],
             [
              0.4444444444444444,
              "#bd3786"
             ],
             [
              0.5555555555555556,
              "#d8576b"
             ],
             [
              0.6666666666666666,
              "#ed7953"
             ],
             [
              0.7777777777777778,
              "#fb9f3a"
             ],
             [
              0.8888888888888888,
              "#fdca26"
             ],
             [
              1,
              "#f0f921"
             ]
            ],
            "type": "heatmap"
           }
          ],
          "heatmapgl": [
           {
            "colorbar": {
             "outlinewidth": 0,
             "ticks": ""
            },
            "colorscale": [
             [
              0,
              "#0d0887"
             ],
             [
              0.1111111111111111,
              "#46039f"
             ],
             [
              0.2222222222222222,
              "#7201a8"
             ],
             [
              0.3333333333333333,
              "#9c179e"
             ],
             [
              0.4444444444444444,
              "#bd3786"
             ],
             [
              0.5555555555555556,
              "#d8576b"
             ],
             [
              0.6666666666666666,
              "#ed7953"
             ],
             [
              0.7777777777777778,
              "#fb9f3a"
             ],
             [
              0.8888888888888888,
              "#fdca26"
             ],
             [
              1,
              "#f0f921"
             ]
            ],
            "type": "heatmapgl"
           }
          ],
          "histogram": [
           {
            "marker": {
             "pattern": {
              "fillmode": "overlay",
              "size": 10,
              "solidity": 0.2
             }
            },
            "type": "histogram"
           }
          ],
          "histogram2d": [
           {
            "colorbar": {
             "outlinewidth": 0,
             "ticks": ""
            },
            "colorscale": [
             [
              0,
              "#0d0887"
             ],
             [
              0.1111111111111111,
              "#46039f"
             ],
             [
              0.2222222222222222,
              "#7201a8"
             ],
             [
              0.3333333333333333,
              "#9c179e"
             ],
             [
              0.4444444444444444,
              "#bd3786"
             ],
             [
              0.5555555555555556,
              "#d8576b"
             ],
             [
              0.6666666666666666,
              "#ed7953"
             ],
             [
              0.7777777777777778,
              "#fb9f3a"
             ],
             [
              0.8888888888888888,
              "#fdca26"
             ],
             [
              1,
              "#f0f921"
             ]
            ],
            "type": "histogram2d"
           }
          ],
          "histogram2dcontour": [
           {
            "colorbar": {
             "outlinewidth": 0,
             "ticks": ""
            },
            "colorscale": [
             [
              0,
              "#0d0887"
             ],
             [
              0.1111111111111111,
              "#46039f"
             ],
             [
              0.2222222222222222,
              "#7201a8"
             ],
             [
              0.3333333333333333,
              "#9c179e"
             ],
             [
              0.4444444444444444,
              "#bd3786"
             ],
             [
              0.5555555555555556,
              "#d8576b"
             ],
             [
              0.6666666666666666,
              "#ed7953"
             ],
             [
              0.7777777777777778,
              "#fb9f3a"
             ],
             [
              0.8888888888888888,
              "#fdca26"
             ],
             [
              1,
              "#f0f921"
             ]
            ],
            "type": "histogram2dcontour"
           }
          ],
          "mesh3d": [
           {
            "colorbar": {
             "outlinewidth": 0,
             "ticks": ""
            },
            "type": "mesh3d"
           }
          ],
          "parcoords": [
           {
            "line": {
             "colorbar": {
              "outlinewidth": 0,
              "ticks": ""
             }
            },
            "type": "parcoords"
           }
          ],
          "pie": [
           {
            "automargin": true,
            "type": "pie"
           }
          ],
          "scatter": [
           {
            "fillpattern": {
             "fillmode": "overlay",
             "size": 10,
             "solidity": 0.2
            },
            "type": "scatter"
           }
          ],
          "scatter3d": [
           {
            "line": {
             "colorbar": {
              "outlinewidth": 0,
              "ticks": ""
             }
            },
            "marker": {
             "colorbar": {
              "outlinewidth": 0,
              "ticks": ""
             }
            },
            "type": "scatter3d"
           }
          ],
          "scattercarpet": [
           {
            "marker": {
             "colorbar": {
              "outlinewidth": 0,
              "ticks": ""
             }
            },
            "type": "scattercarpet"
           }
          ],
          "scattergeo": [
           {
            "marker": {
             "colorbar": {
              "outlinewidth": 0,
              "ticks": ""
             }
            },
            "type": "scattergeo"
           }
          ],
          "scattergl": [
           {
            "marker": {
             "colorbar": {
              "outlinewidth": 0,
              "ticks": ""
             }
            },
            "type": "scattergl"
           }
          ],
          "scattermapbox": [
           {
            "marker": {
             "colorbar": {
              "outlinewidth": 0,
              "ticks": ""
             }
            },
            "type": "scattermapbox"
           }
          ],
          "scatterpolar": [
           {
            "marker": {
             "colorbar": {
              "outlinewidth": 0,
              "ticks": ""
             }
            },
            "type": "scatterpolar"
           }
          ],
          "scatterpolargl": [
           {
            "marker": {
             "colorbar": {
              "outlinewidth": 0,
              "ticks": ""
             }
            },
            "type": "scatterpolargl"
           }
          ],
          "scatterternary": [
           {
            "marker": {
             "colorbar": {
              "outlinewidth": 0,
              "ticks": ""
             }
            },
            "type": "scatterternary"
           }
          ],
          "surface": [
           {
            "colorbar": {
             "outlinewidth": 0,
             "ticks": ""
            },
            "colorscale": [
             [
              0,
              "#0d0887"
             ],
             [
              0.1111111111111111,
              "#46039f"
             ],
             [
              0.2222222222222222,
              "#7201a8"
             ],
             [
              0.3333333333333333,
              "#9c179e"
             ],
             [
              0.4444444444444444,
              "#bd3786"
             ],
             [
              0.5555555555555556,
              "#d8576b"
             ],
             [
              0.6666666666666666,
              "#ed7953"
             ],
             [
              0.7777777777777778,
              "#fb9f3a"
             ],
             [
              0.8888888888888888,
              "#fdca26"
             ],
             [
              1,
              "#f0f921"
             ]
            ],
            "type": "surface"
           }
          ],
          "table": [
           {
            "cells": {
             "fill": {
              "color": "#EBF0F8"
             },
             "line": {
              "color": "white"
             }
            },
            "header": {
             "fill": {
              "color": "#C8D4E3"
             },
             "line": {
              "color": "white"
             }
            },
            "type": "table"
           }
          ]
         },
         "layout": {
          "annotationdefaults": {
           "arrowcolor": "#2a3f5f",
           "arrowhead": 0,
           "arrowwidth": 1
          },
          "autotypenumbers": "strict",
          "coloraxis": {
           "colorbar": {
            "outlinewidth": 0,
            "ticks": ""
           }
          },
          "colorscale": {
           "diverging": [
            [
             0,
             "#8e0152"
            ],
            [
             0.1,
             "#c51b7d"
            ],
            [
             0.2,
             "#de77ae"
            ],
            [
             0.3,
             "#f1b6da"
            ],
            [
             0.4,
             "#fde0ef"
            ],
            [
             0.5,
             "#f7f7f7"
            ],
            [
             0.6,
             "#e6f5d0"
            ],
            [
             0.7,
             "#b8e186"
            ],
            [
             0.8,
             "#7fbc41"
            ],
            [
             0.9,
             "#4d9221"
            ],
            [
             1,
             "#276419"
            ]
           ],
           "sequential": [
            [
             0,
             "#0d0887"
            ],
            [
             0.1111111111111111,
             "#46039f"
            ],
            [
             0.2222222222222222,
             "#7201a8"
            ],
            [
             0.3333333333333333,
             "#9c179e"
            ],
            [
             0.4444444444444444,
             "#bd3786"
            ],
            [
             0.5555555555555556,
             "#d8576b"
            ],
            [
             0.6666666666666666,
             "#ed7953"
            ],
            [
             0.7777777777777778,
             "#fb9f3a"
            ],
            [
             0.8888888888888888,
             "#fdca26"
            ],
            [
             1,
             "#f0f921"
            ]
           ],
           "sequentialminus": [
            [
             0,
             "#0d0887"
            ],
            [
             0.1111111111111111,
             "#46039f"
            ],
            [
             0.2222222222222222,
             "#7201a8"
            ],
            [
             0.3333333333333333,
             "#9c179e"
            ],
            [
             0.4444444444444444,
             "#bd3786"
            ],
            [
             0.5555555555555556,
             "#d8576b"
            ],
            [
             0.6666666666666666,
             "#ed7953"
            ],
            [
             0.7777777777777778,
             "#fb9f3a"
            ],
            [
             0.8888888888888888,
             "#fdca26"
            ],
            [
             1,
             "#f0f921"
            ]
           ]
          },
          "colorway": [
           "#636efa",
           "#EF553B",
           "#00cc96",
           "#ab63fa",
           "#FFA15A",
           "#19d3f3",
           "#FF6692",
           "#B6E880",
           "#FF97FF",
           "#FECB52"
          ],
          "font": {
           "color": "#2a3f5f"
          },
          "geo": {
           "bgcolor": "white",
           "lakecolor": "white",
           "landcolor": "#E5ECF6",
           "showlakes": true,
           "showland": true,
           "subunitcolor": "white"
          },
          "hoverlabel": {
           "align": "left"
          },
          "hovermode": "closest",
          "mapbox": {
           "style": "light"
          },
          "paper_bgcolor": "white",
          "plot_bgcolor": "#E5ECF6",
          "polar": {
           "angularaxis": {
            "gridcolor": "white",
            "linecolor": "white",
            "ticks": ""
           },
           "bgcolor": "#E5ECF6",
           "radialaxis": {
            "gridcolor": "white",
            "linecolor": "white",
            "ticks": ""
           }
          },
          "scene": {
           "xaxis": {
            "backgroundcolor": "#E5ECF6",
            "gridcolor": "white",
            "gridwidth": 2,
            "linecolor": "white",
            "showbackground": true,
            "ticks": "",
            "zerolinecolor": "white"
           },
           "yaxis": {
            "backgroundcolor": "#E5ECF6",
            "gridcolor": "white",
            "gridwidth": 2,
            "linecolor": "white",
            "showbackground": true,
            "ticks": "",
            "zerolinecolor": "white"
           },
           "zaxis": {
            "backgroundcolor": "#E5ECF6",
            "gridcolor": "white",
            "gridwidth": 2,
            "linecolor": "white",
            "showbackground": true,
            "ticks": "",
            "zerolinecolor": "white"
           }
          },
          "shapedefaults": {
           "line": {
            "color": "#2a3f5f"
           }
          },
          "ternary": {
           "aaxis": {
            "gridcolor": "white",
            "linecolor": "white",
            "ticks": ""
           },
           "baxis": {
            "gridcolor": "white",
            "linecolor": "white",
            "ticks": ""
           },
           "bgcolor": "#E5ECF6",
           "caxis": {
            "gridcolor": "white",
            "linecolor": "white",
            "ticks": ""
           }
          },
          "title": {
           "x": 0.05
          },
          "xaxis": {
           "automargin": true,
           "gridcolor": "white",
           "linecolor": "white",
           "ticks": "",
           "title": {
            "standoff": 15
           },
           "zerolinecolor": "white",
           "zerolinewidth": 2
          },
          "yaxis": {
           "automargin": true,
           "gridcolor": "white",
           "linecolor": "white",
           "ticks": "",
           "title": {
            "standoff": 15
           },
           "zerolinecolor": "white",
           "zerolinewidth": 2
          }
         }
        },
        "title": {
         "text": "Top 10 Nom Clients by Sum of qty_tole and total_frais_pliage"
        },
        "xaxis": {
         "anchor": "y",
         "domain": [
          0,
          0.94
         ],
         "tickangle": -45,
         "title": {
          "text": "Nom Client"
         }
        },
        "yaxis": {
         "anchor": "x",
         "domain": [
          0,
          1
         ],
         "title": {
          "text": "Sum of total_frais_pliage"
         }
        },
        "yaxis2": {
         "anchor": "x",
         "overlaying": "y",
         "side": "right",
         "title": {
          "text": "Sum of qty_tole"
         }
        }
       }
      }
     },
     "metadata": {},
     "output_type": "display_data"
    }
   ],
   "source": [
    "grouped_data = df1.groupby('nom_client')\n",
    "\n",
    "# Step 2: Calculate the sum of 'qty_tole' and 'total_frais_pliage' for each 'nom_client'\n",
    "sum_qty_tole = grouped_data['qty_tole'].sum()\n",
    "sum_total_frais_pliage = grouped_data['total_frais_pliage'].sum()\n",
    "\n",
    "# Step 3: Combine the sums into a new DataFrame\n",
    "sum_df = pd.DataFrame({\n",
    "    'sum_qty_tole': sum_qty_tole,\n",
    "    'sum_total_frais_pliage': sum_total_frais_pliage\n",
    "}).reset_index()\n",
    "\n",
    "# Step 4: Sort the data based on the calculated sums in descending order\n",
    "sum_df = sum_df.sort_values(by=['sum_qty_tole', 'sum_total_frais_pliage'], ascending=False)\n",
    "\n",
    "# Step 5: Extract the top 10 'nom_client' based on the sums\n",
    "top_10_clients = sum_df.head(10)\n",
    "\n",
    "# Step 6: Plot the results using Plotly Express\n",
    "fig = make_subplots(specs=[[{\"secondary_y\": True}]])\n",
    "fig.add_trace(go.Bar(x=top_10_clients['nom_client'], y=top_10_clients['sum_total_frais_pliage'],\n",
    "                     name='Sum of total_frais_pliage'), secondary_y=False)\n",
    "fig.add_trace(go.Bar(x=top_10_clients['nom_client'], y=top_10_clients['sum_qty_tole'],\n",
    "                     name='Sum of qty_tole'), secondary_y=True)\n",
    "\n",
    "fig.update_layout(title='Top 10 Nom Clients by Sum of qty_tole and total_frais_pliage',\n",
    "                  xaxis_tickangle=-45, xaxis_title='Nom Client', barmode='group')\n",
    "\n",
    "fig.update_yaxes(title_text='Sum of total_frais_pliage', secondary_y=False)\n",
    "fig.update_yaxes(title_text='Sum of qty_tole', secondary_y=True)\n",
    "\n",
    "fig.show()"
   ]
  },
  {
   "cell_type": "code",
   "execution_count": 15,
   "metadata": {},
   "outputs": [
    {
     "data": {
      "text/plain": [
       "nom_client\n",
       "RAHERY        22\n",
       "KEVIN         13\n",
       "FANILO         8\n",
       "MANAMPY        7\n",
       "MODESTE        4\n",
       "TINA           4\n",
       "JOHARY         3\n",
       "ZO             3\n",
       "MISA           2\n",
       "TSARAVIDY      2\n",
       "BOSCO          2\n",
       "MAMY DADDY     2\n",
       "BOLIDA         2\n",
       "SANTATRA       1\n",
       "SAMIR          1\n",
       "ROBINSON       1\n",
       "TSIRY          1\n",
       "RADO           1\n",
       "NIX            1\n",
       "SAFIDY         1\n",
       "ANDRY          1\n",
       "MENJA          1\n",
       "AVOTRA         1\n",
       "LIVA           1\n",
       "JOSOA          1\n",
       "JAMES          1\n",
       "INCONNUE       1\n",
       "HANJA          1\n",
       "HANITRA        1\n",
       "FENOSOA        1\n",
       "ELYSEE         1\n",
       "CHELAH         1\n",
       "MAMY           1\n",
       "Name: count, dtype: int64"
      ]
     },
     "execution_count": 15,
     "metadata": {},
     "output_type": "execute_result"
    }
   ],
   "source": [
    "df1.nom_client.value_counts()"
   ]
  },
  {
   "cell_type": "code",
   "execution_count": 16,
   "metadata": {},
   "outputs": [
    {
     "data": {
      "image/png": "[encoded data removed]",
      "text/plain": [
       "<Figure size 1200x600 with 1 Axes>"
      ]
     },
     "metadata": {},
     "output_type": "display_data"
    }
   ],
   "source": [
    "grouped_data = df1.groupby('nom_client')\n",
    "\n",
    "# Step 2: Calculate the sum of 'qty_tole' and 'total_frais_pliage' for each 'nom_client'\n",
    "mean_frais_pliage_by_tole = grouped_data['frais_pliage_by_tole'].mean()\n",
    "\n",
    "\n",
    "\n",
    "# Step 4: Sort the data based on the calculated sums in descending order\n",
    "mean_frais_pliage_by_tole = mean_frais_pliage_by_tole.sort_values(ascending=False)\n",
    "\n",
    "# Step 5: Extract the top 10 'nom_client' based on the sums\n",
    "top_10_clients = mean_frais_pliage_by_tole.head(20)\n",
    "\n",
    "# Step 6: Plot the results\n",
    "plt.figure(figsize=(12, 6))\n",
    "\n",
    "plt.subplot()\n",
    "plt.bar(top_10_clients.index, top_10_clients)\n",
    "plt.xticks(rotation=45, ha='right')\n",
    "plt.xlabel('Nom Client')\n",
    "plt.ylabel('Sum of qty_tole')\n",
    "plt.title('Top 10 Nom Clients by Sum of qty_tole')\n",
    "\n",
    "\n",
    "plt.show()"
   ]
  },
  {
   "cell_type": "code",
   "execution_count": 17,
   "metadata": {},
   "outputs": [
    {
     "data": {
      "text/html": [
       "<div>\n",
       "<style scoped>\n",
       "    .dataframe tbody tr th:only-of-type {\n",
       "        vertical-align: middle;\n",
       "    }\n",
       "\n",
       "    .dataframe tbody tr th {\n",
       "        vertical-align: top;\n",
       "    }\n",
       "\n",
       "    .dataframe thead th {\n",
       "        text-align: right;\n",
       "    }\n",
       "</style>\n",
       "<table border=\"1\" class=\"dataframe\">\n",
       "  <thead>\n",
       "    <tr style=\"text-align: right;\">\n",
       "      <th></th>\n",
       "      <th>nom_client</th>\n",
       "      <th>frais_pliage_by_tole</th>\n",
       "    </tr>\n",
       "  </thead>\n",
       "  <tbody>\n",
       "    <tr>\n",
       "      <th>0</th>\n",
       "      <td>FENOSOA</td>\n",
       "      <td>351108.185210</td>\n",
       "    </tr>\n",
       "    <tr>\n",
       "      <th>1</th>\n",
       "      <td>MAMY DADDY</td>\n",
       "      <td>53653.846154</td>\n",
       "    </tr>\n",
       "    <tr>\n",
       "      <th>2</th>\n",
       "      <td>FANILO</td>\n",
       "      <td>49715.633605</td>\n",
       "    </tr>\n",
       "    <tr>\n",
       "      <th>3</th>\n",
       "      <td>MANAMPY</td>\n",
       "      <td>47344.569401</td>\n",
       "    </tr>\n",
       "    <tr>\n",
       "      <th>4</th>\n",
       "      <td>ZO</td>\n",
       "      <td>29500.000000</td>\n",
       "    </tr>\n",
       "    <tr>\n",
       "      <th>5</th>\n",
       "      <td>MODESTE</td>\n",
       "      <td>28762.500000</td>\n",
       "    </tr>\n",
       "    <tr>\n",
       "      <th>6</th>\n",
       "      <td>HANJA</td>\n",
       "      <td>24102.564103</td>\n",
       "    </tr>\n",
       "    <tr>\n",
       "      <th>7</th>\n",
       "      <td>KEVIN</td>\n",
       "      <td>22567.521368</td>\n",
       "    </tr>\n",
       "    <tr>\n",
       "      <th>8</th>\n",
       "      <td>RAHERY</td>\n",
       "      <td>20488.636364</td>\n",
       "    </tr>\n",
       "    <tr>\n",
       "      <th>9</th>\n",
       "      <td>BOLIDA</td>\n",
       "      <td>20000.000000</td>\n",
       "    </tr>\n",
       "    <tr>\n",
       "      <th>10</th>\n",
       "      <td>CHELAH</td>\n",
       "      <td>19500.000000</td>\n",
       "    </tr>\n",
       "    <tr>\n",
       "      <th>11</th>\n",
       "      <td>MISA</td>\n",
       "      <td>18900.000000</td>\n",
       "    </tr>\n",
       "    <tr>\n",
       "      <th>12</th>\n",
       "      <td>BOSCO</td>\n",
       "      <td>18480.000000</td>\n",
       "    </tr>\n",
       "    <tr>\n",
       "      <th>13</th>\n",
       "      <td>AVOTRA</td>\n",
       "      <td>18000.000000</td>\n",
       "    </tr>\n",
       "    <tr>\n",
       "      <th>14</th>\n",
       "      <td>ANDRY</td>\n",
       "      <td>18000.000000</td>\n",
       "    </tr>\n",
       "    <tr>\n",
       "      <th>15</th>\n",
       "      <td>TINA</td>\n",
       "      <td>15600.000000</td>\n",
       "    </tr>\n",
       "    <tr>\n",
       "      <th>16</th>\n",
       "      <td>JOSOA</td>\n",
       "      <td>15000.000000</td>\n",
       "    </tr>\n",
       "    <tr>\n",
       "      <th>17</th>\n",
       "      <td>TSIRY</td>\n",
       "      <td>15000.000000</td>\n",
       "    </tr>\n",
       "    <tr>\n",
       "      <th>18</th>\n",
       "      <td>SANTATRA</td>\n",
       "      <td>15000.000000</td>\n",
       "    </tr>\n",
       "    <tr>\n",
       "      <th>19</th>\n",
       "      <td>HANITRA</td>\n",
       "      <td>15000.000000</td>\n",
       "    </tr>\n",
       "  </tbody>\n",
       "</table>\n",
       "</div>"
      ],
      "text/plain": [
       "    nom_client  frais_pliage_by_tole\n",
       "0      FENOSOA         351108.185210\n",
       "1   MAMY DADDY          53653.846154\n",
       "2       FANILO          49715.633605\n",
       "3      MANAMPY          47344.569401\n",
       "4           ZO          29500.000000\n",
       "5      MODESTE          28762.500000\n",
       "6        HANJA          24102.564103\n",
       "7        KEVIN          22567.521368\n",
       "8       RAHERY          20488.636364\n",
       "9       BOLIDA          20000.000000\n",
       "10      CHELAH          19500.000000\n",
       "11        MISA          18900.000000\n",
       "12       BOSCO          18480.000000\n",
       "13      AVOTRA          18000.000000\n",
       "14       ANDRY          18000.000000\n",
       "15        TINA          15600.000000\n",
       "16       JOSOA          15000.000000\n",
       "17       TSIRY          15000.000000\n",
       "18    SANTATRA          15000.000000\n",
       "19     HANITRA          15000.000000"
      ]
     },
     "execution_count": 17,
     "metadata": {},
     "output_type": "execute_result"
    }
   ],
   "source": [
    "top_10_clients.reset_index()"
   ]
  },
  {
   "cell_type": "code",
   "execution_count": 18,
   "metadata": {},
   "outputs": [
    {
     "data": {
      "text/plain": [
       "33"
      ]
     },
     "execution_count": 18,
     "metadata": {},
     "output_type": "execute_result"
    }
   ],
   "source": [
    "df.nom_client.nunique()"
   ]
  },
  {
   "cell_type": "code",
   "execution_count": 19,
   "metadata": {},
   "outputs": [
    {
     "data": {
      "text/plain": [
       "11629.568074466672"
      ]
     },
     "execution_count": 19,
     "metadata": {},
     "output_type": "execute_result"
    }
   ],
   "source": [
    "df1.total_frais_pliage.sum()/df1.qty_tole.sum()"
   ]
  },
  {
   "cell_type": "code",
   "execution_count": 20,
   "metadata": {},
   "outputs": [
    {
     "data": {
      "text/plain": [
       "'BOSCO'"
      ]
     },
     "execution_count": 20,
     "metadata": {},
     "output_type": "execute_result"
    }
   ],
   "source": [
    "df1.groupby('nom_client')[\"qty_tole\"].sum().sort_values(ascending=False).index[0]"
   ]
  },
  {
   "cell_type": "code",
   "execution_count": 21,
   "metadata": {},
   "outputs": [],
   "source": [
    "def plot_by_month(result):\n",
    "    result['date_arrivé'] = pd.to_datetime(result['date_arrivé'])\n",
    "\n",
    "    # Step 2: Extract the month and year from 'date_arrivé'\n",
    "    result['month_year'] = result['date_arrivé'].dt.to_period('M')\n",
    "\n",
    "    # Step 3: Group the data by month and year, and calculate the sum of 'total_frais_pliage'\n",
    "    grouped_data = result.groupby('month_year')['total_frais_pliage'].sum()\n",
    "\n",
    "    # Create a Streamlit app\n",
    " \n",
    "\n",
    "    # Plot the data using matplotlib and display it in Streamlit\n",
    "    plt.figure(figsize=(10, 6))\n",
    "    plt.bar(grouped_data.index, grouped_data.values)\n",
    "    plt.xlabel('Month-Year')\n",
    "    plt.ylabel('Total Frais Pliage')\n",
    "    plt.title('Total Frais Pliage by Month-Year')\n",
    "    plt.xticks(rotation=45, ha='right')\n",
    "    plt.tight_layout()\n",
    "\n",
    "    # Show the plot using Streamlit\n",
    "    plt.show()"
   ]
  },
  {
   "cell_type": "code",
   "execution_count": 22,
   "metadata": {},
   "outputs": [
    {
     "ename": "TypeError",
     "evalue": "the dtypes of parameters x (object) and width (float64) are incompatible",
     "output_type": "error",
     "traceback": [
      "\u001b[1;31m---------------------------------------------------------------------------\u001b[0m",
      "\u001b[1;31mTypeError\u001b[0m                                 Traceback (most recent call last)",
      "File \u001b[1;32mc:\\Users\\USER\\anaconda3\\envs\\dashboard\\Lib\\site-packages\\matplotlib\\axes\\_axes.py:2432\u001b[0m, in \u001b[0;36mAxes.bar\u001b[1;34m(self, x, height, width, bottom, align, **kwargs)\u001b[0m\n\u001b[0;32m   2431\u001b[0m \u001b[39mtry\u001b[39;00m:\n\u001b[1;32m-> 2432\u001b[0m     left \u001b[39m=\u001b[39m x \u001b[39m-\u001b[39;49m width \u001b[39m/\u001b[39;49m \u001b[39m2\u001b[39;49m\n\u001b[0;32m   2433\u001b[0m \u001b[39mexcept\u001b[39;00m \u001b[39mTypeError\u001b[39;00m \u001b[39mas\u001b[39;00m e:\n",
      "\u001b[1;31mTypeError\u001b[0m: unsupported operand type(s) for -: 'Period' and 'float'",
      "\nThe above exception was the direct cause of the following exception:\n",
      "\u001b[1;31mTypeError\u001b[0m                                 Traceback (most recent call last)",
      "\u001b[1;32mc:\\Users\\USER\\code\\fav007\\DGD\\plitech\\data_analysis.ipynb Cell 22\u001b[0m in \u001b[0;36m1\n\u001b[1;32m----> <a href='vscode-notebook-cell:/c%3A/Users/USER/code/fav007/DGD/plitech/data_analysis.ipynb#X30sZmlsZQ%3D%3D?line=0'>1</a>\u001b[0m plot_by_month(df1)\n",
      "\u001b[1;32mc:\\Users\\USER\\code\\fav007\\DGD\\plitech\\data_analysis.ipynb Cell 22\u001b[0m in \u001b[0;36m1\n\u001b[0;32m     <a href='vscode-notebook-cell:/c%3A/Users/USER/code/fav007/DGD/plitech/data_analysis.ipynb#X30sZmlsZQ%3D%3D?line=9'>10</a>\u001b[0m \u001b[39m# Create a Streamlit app\u001b[39;00m\n\u001b[0;32m     <a href='vscode-notebook-cell:/c%3A/Users/USER/code/fav007/DGD/plitech/data_analysis.ipynb#X30sZmlsZQ%3D%3D?line=10'>11</a>\u001b[0m \n\u001b[0;32m     <a href='vscode-notebook-cell:/c%3A/Users/USER/code/fav007/DGD/plitech/data_analysis.ipynb#X30sZmlsZQ%3D%3D?line=11'>12</a>\u001b[0m \n\u001b[0;32m     <a href='vscode-notebook-cell:/c%3A/Users/USER/code/fav007/DGD/plitech/data_analysis.ipynb#X30sZmlsZQ%3D%3D?line=12'>13</a>\u001b[0m \u001b[39m# Plot the data using matplotlib and display it in Streamlit\u001b[39;00m\n\u001b[0;32m     <a href='vscode-notebook-cell:/c%3A/Users/USER/code/fav007/DGD/plitech/data_analysis.ipynb#X30sZmlsZQ%3D%3D?line=13'>14</a>\u001b[0m plt\u001b[39m.\u001b[39mfigure(figsize\u001b[39m=\u001b[39m(\u001b[39m10\u001b[39m, \u001b[39m6\u001b[39m))\n\u001b[1;32m---> <a href='vscode-notebook-cell:/c%3A/Users/USER/code/fav007/DGD/plitech/data_analysis.ipynb#X30sZmlsZQ%3D%3D?line=14'>15</a>\u001b[0m plt\u001b[39m.\u001b[39;49mbar(grouped_data\u001b[39m.\u001b[39;49mindex, grouped_data\u001b[39m.\u001b[39;49mvalues)\n\u001b[0;32m     <a href='vscode-notebook-cell:/c%3A/Users/USER/code/fav007/DGD/plitech/data_analysis.ipynb#X30sZmlsZQ%3D%3D?line=15'>16</a>\u001b[0m plt\u001b[39m.\u001b[39mxlabel(\u001b[39m'\u001b[39m\u001b[39mMonth-Year\u001b[39m\u001b[39m'\u001b[39m)\n\u001b[0;32m     <a href='vscode-notebook-cell:/c%3A/Users/USER/code/fav007/DGD/plitech/data_analysis.ipynb#X30sZmlsZQ%3D%3D?line=16'>17</a>\u001b[0m plt\u001b[39m.\u001b[39mylabel(\u001b[39m'\u001b[39m\u001b[39mTotal Frais Pliage\u001b[39m\u001b[39m'\u001b[39m)\n",
      "File \u001b[1;32mc:\\Users\\USER\\anaconda3\\envs\\dashboard\\Lib\\site-packages\\matplotlib\\pyplot.py:2367\u001b[0m, in \u001b[0;36mbar\u001b[1;34m(x, height, width, bottom, align, data, **kwargs)\u001b[0m\n\u001b[0;32m   2363\u001b[0m \u001b[39m@_copy_docstring_and_deprecators\u001b[39m(Axes\u001b[39m.\u001b[39mbar)\n\u001b[0;32m   2364\u001b[0m \u001b[39mdef\u001b[39;00m \u001b[39mbar\u001b[39m(\n\u001b[0;32m   2365\u001b[0m         x, height, width\u001b[39m=\u001b[39m\u001b[39m0.8\u001b[39m, bottom\u001b[39m=\u001b[39m\u001b[39mNone\u001b[39;00m, \u001b[39m*\u001b[39m, align\u001b[39m=\u001b[39m\u001b[39m'\u001b[39m\u001b[39mcenter\u001b[39m\u001b[39m'\u001b[39m,\n\u001b[0;32m   2366\u001b[0m         data\u001b[39m=\u001b[39m\u001b[39mNone\u001b[39;00m, \u001b[39m*\u001b[39m\u001b[39m*\u001b[39mkwargs):\n\u001b[1;32m-> 2367\u001b[0m     \u001b[39mreturn\u001b[39;00m gca()\u001b[39m.\u001b[39;49mbar(\n\u001b[0;32m   2368\u001b[0m         x, height, width\u001b[39m=\u001b[39;49mwidth, bottom\u001b[39m=\u001b[39;49mbottom, align\u001b[39m=\u001b[39;49malign,\n\u001b[0;32m   2369\u001b[0m         \u001b[39m*\u001b[39;49m\u001b[39m*\u001b[39;49m({\u001b[39m\"\u001b[39;49m\u001b[39mdata\u001b[39;49m\u001b[39m\"\u001b[39;49m: data} \u001b[39mif\u001b[39;49;00m data \u001b[39mis\u001b[39;49;00m \u001b[39mnot\u001b[39;49;00m \u001b[39mNone\u001b[39;49;00m \u001b[39melse\u001b[39;49;00m {}), \u001b[39m*\u001b[39;49m\u001b[39m*\u001b[39;49mkwargs)\n",
      "File \u001b[1;32mc:\\Users\\USER\\anaconda3\\envs\\dashboard\\Lib\\site-packages\\matplotlib\\__init__.py:1423\u001b[0m, in \u001b[0;36m_preprocess_data.<locals>.inner\u001b[1;34m(ax, data, *args, **kwargs)\u001b[0m\n\u001b[0;32m   1420\u001b[0m \u001b[39m@functools\u001b[39m\u001b[39m.\u001b[39mwraps(func)\n\u001b[0;32m   1421\u001b[0m \u001b[39mdef\u001b[39;00m \u001b[39minner\u001b[39m(ax, \u001b[39m*\u001b[39margs, data\u001b[39m=\u001b[39m\u001b[39mNone\u001b[39;00m, \u001b[39m*\u001b[39m\u001b[39m*\u001b[39mkwargs):\n\u001b[0;32m   1422\u001b[0m     \u001b[39mif\u001b[39;00m data \u001b[39mis\u001b[39;00m \u001b[39mNone\u001b[39;00m:\n\u001b[1;32m-> 1423\u001b[0m         \u001b[39mreturn\u001b[39;00m func(ax, \u001b[39m*\u001b[39;49m\u001b[39mmap\u001b[39;49m(sanitize_sequence, args), \u001b[39m*\u001b[39;49m\u001b[39m*\u001b[39;49mkwargs)\n\u001b[0;32m   1425\u001b[0m     bound \u001b[39m=\u001b[39m new_sig\u001b[39m.\u001b[39mbind(ax, \u001b[39m*\u001b[39margs, \u001b[39m*\u001b[39m\u001b[39m*\u001b[39mkwargs)\n\u001b[0;32m   1426\u001b[0m     auto_label \u001b[39m=\u001b[39m (bound\u001b[39m.\u001b[39marguments\u001b[39m.\u001b[39mget(label_namer)\n\u001b[0;32m   1427\u001b[0m                   \u001b[39mor\u001b[39;00m bound\u001b[39m.\u001b[39mkwargs\u001b[39m.\u001b[39mget(label_namer))\n",
      "File \u001b[1;32mc:\\Users\\USER\\anaconda3\\envs\\dashboard\\Lib\\site-packages\\matplotlib\\axes\\_axes.py:2434\u001b[0m, in \u001b[0;36mAxes.bar\u001b[1;34m(self, x, height, width, bottom, align, **kwargs)\u001b[0m\n\u001b[0;32m   2432\u001b[0m         left \u001b[39m=\u001b[39m x \u001b[39m-\u001b[39m width \u001b[39m/\u001b[39m \u001b[39m2\u001b[39m\n\u001b[0;32m   2433\u001b[0m     \u001b[39mexcept\u001b[39;00m \u001b[39mTypeError\u001b[39;00m \u001b[39mas\u001b[39;00m e:\n\u001b[1;32m-> 2434\u001b[0m         \u001b[39mraise\u001b[39;00m \u001b[39mTypeError\u001b[39;00m(\u001b[39mf\u001b[39m\u001b[39m'\u001b[39m\u001b[39mthe dtypes of parameters x (\u001b[39m\u001b[39m{\u001b[39;00mx\u001b[39m.\u001b[39mdtype\u001b[39m}\u001b[39;00m\u001b[39m) \u001b[39m\u001b[39m'\u001b[39m\n\u001b[0;32m   2435\u001b[0m                         \u001b[39mf\u001b[39m\u001b[39m'\u001b[39m\u001b[39mand width (\u001b[39m\u001b[39m{\u001b[39;00mwidth\u001b[39m.\u001b[39mdtype\u001b[39m}\u001b[39;00m\u001b[39m) \u001b[39m\u001b[39m'\u001b[39m\n\u001b[0;32m   2436\u001b[0m                         \u001b[39mf\u001b[39m\u001b[39m'\u001b[39m\u001b[39mare incompatible\u001b[39m\u001b[39m'\u001b[39m) \u001b[39mfrom\u001b[39;00m \u001b[39me\u001b[39;00m\n\u001b[0;32m   2437\u001b[0m     bottom \u001b[39m=\u001b[39m y\n\u001b[0;32m   2438\u001b[0m \u001b[39melse\u001b[39;00m:  \u001b[39m# horizontal\u001b[39;00m\n",
      "\u001b[1;31mTypeError\u001b[0m: the dtypes of parameters x (object) and width (float64) are incompatible"
     ]
    },
    {
     "data": {
      "image/png": "[encoded data removed]",
      "text/plain": [
       "<Figure size 1000x600 with 1 Axes>"
      ]
     },
     "metadata": {},
     "output_type": "display_data"
    }
   ],
   "source": [
    "plot_by_month(df1)"
   ]
  },
  {
   "cell_type": "code",
   "execution_count": null,
   "metadata": {},
   "outputs": [],
   "source": [
    "result = df1\n",
    "result['date_arrivé'] = pd.to_datetime(result['date_arrivé'])\n",
    "result['month_year'] = result['date_arrivé'].dt.to_period('M')\n",
    "grouped_data = result.groupby('month_year')['total_frais_pliage'].sum()\n"
   ]
  },
  {
   "cell_type": "code",
   "execution_count": null,
   "metadata": {},
   "outputs": [
    {
     "data": {
      "text/plain": [
       "<BarContainer object of 2 artists>"
      ]
     },
     "execution_count": 48,
     "metadata": {},
     "output_type": "execute_result"
    },
    {
     "data": {
      "image/png": "[encoded data removed]",
      "text/plain": [
       "<Figure size 640x480 with 1 Axes>"
      ]
     },
     "metadata": {},
     "output_type": "display_data"
    }
   ],
   "source": [
    "plt.bar(grouped_data.index.astype(str),grouped_data.values)"
   ]
  },
  {
   "cell_type": "code",
   "execution_count": null,
   "metadata": {},
   "outputs": [
    {
     "ename": "TypeError",
     "evalue": "Object of type Period is not JSON serializable",
     "output_type": "error",
     "traceback": [
      "\u001b[1;31m---------------------------------------------------------------------------\u001b[0m",
      "\u001b[1;31mTypeError\u001b[0m                                 Traceback (most recent call last)",
      "\u001b[1;32mc:\\Users\\USER\\code\\fav007\\DGD\\plitech\\data_analysis.ipynb Cell 26\u001b[0m in \u001b[0;36m2\n\u001b[0;32m     <a href='vscode-notebook-cell:/c%3A/Users/USER/code/fav007/DGD/plitech/data_analysis.ipynb#X34sZmlsZQ%3D%3D?line=18'>19</a>\u001b[0m \u001b[39m# Plot the data using Plotly Express and display it in Streamlit\u001b[39;00m\n\u001b[0;32m     <a href='vscode-notebook-cell:/c%3A/Users/USER/code/fav007/DGD/plitech/data_analysis.ipynb#X34sZmlsZQ%3D%3D?line=19'>20</a>\u001b[0m fig \u001b[39m=\u001b[39m px\u001b[39m.\u001b[39mbar(grouped_data, x\u001b[39m=\u001b[39m\u001b[39m'\u001b[39m\u001b[39mmonth_year\u001b[39m\u001b[39m'\u001b[39m, y\u001b[39m=\u001b[39m\u001b[39m'\u001b[39m\u001b[39mtotal_frais_pliage\u001b[39m\u001b[39m'\u001b[39m,\n\u001b[0;32m     <a href='vscode-notebook-cell:/c%3A/Users/USER/code/fav007/DGD/plitech/data_analysis.ipynb#X34sZmlsZQ%3D%3D?line=20'>21</a>\u001b[0m              labels\u001b[39m=\u001b[39m{\u001b[39m'\u001b[39m\u001b[39mtotal_frais_pliage\u001b[39m\u001b[39m'\u001b[39m: \u001b[39m'\u001b[39m\u001b[39mTotal Frais Pliage\u001b[39m\u001b[39m'\u001b[39m},\n\u001b[0;32m     <a href='vscode-notebook-cell:/c%3A/Users/USER/code/fav007/DGD/plitech/data_analysis.ipynb#X34sZmlsZQ%3D%3D?line=21'>22</a>\u001b[0m              title\u001b[39m=\u001b[39m\u001b[39m'\u001b[39m\u001b[39mTotal Frais Pliage by Month-Year\u001b[39m\u001b[39m'\u001b[39m)\n\u001b[1;32m---> <a href='vscode-notebook-cell:/c%3A/Users/USER/code/fav007/DGD/plitech/data_analysis.ipynb#X34sZmlsZQ%3D%3D?line=23'>24</a>\u001b[0m fig\u001b[39m.\u001b[39;49mshow()\n\u001b[0;32m     <a href='vscode-notebook-cell:/c%3A/Users/USER/code/fav007/DGD/plitech/data_analysis.ipynb#X34sZmlsZQ%3D%3D?line=24'>25</a>\u001b[0m fig\u001b[39m.\u001b[39mupdate_layout(xaxis_tickangle\u001b[39m=\u001b[39m\u001b[39m-\u001b[39m\u001b[39m45\u001b[39m)\n",
      "File \u001b[1;32mc:\\Users\\USER\\anaconda3\\envs\\dashboard\\Lib\\site-packages\\plotly\\basedatatypes.py:3390\u001b[0m, in \u001b[0;36mBaseFigure.show\u001b[1;34m(self, *args, **kwargs)\u001b[0m\n\u001b[0;32m   3357\u001b[0m \u001b[39m\"\"\"\u001b[39;00m\n\u001b[0;32m   3358\u001b[0m \u001b[39mShow a figure using either the default renderer(s) or the renderer(s)\u001b[39;00m\n\u001b[0;32m   3359\u001b[0m \u001b[39mspecified by the renderer argument\u001b[39;00m\n\u001b[1;32m   (...)\u001b[0m\n\u001b[0;32m   3386\u001b[0m \u001b[39mNone\u001b[39;00m\n\u001b[0;32m   3387\u001b[0m \u001b[39m\"\"\"\u001b[39;00m\n\u001b[0;32m   3388\u001b[0m \u001b[39mimport\u001b[39;00m \u001b[39mplotly\u001b[39;00m\u001b[39m.\u001b[39;00m\u001b[39mio\u001b[39;00m \u001b[39mas\u001b[39;00m \u001b[39mpio\u001b[39;00m\n\u001b[1;32m-> 3390\u001b[0m \u001b[39mreturn\u001b[39;00m pio\u001b[39m.\u001b[39;49mshow(\u001b[39mself\u001b[39;49m, \u001b[39m*\u001b[39;49margs, \u001b[39m*\u001b[39;49m\u001b[39m*\u001b[39;49mkwargs)\n",
      "File \u001b[1;32mc:\\Users\\USER\\anaconda3\\envs\\dashboard\\Lib\\site-packages\\plotly\\io\\_renderers.py:388\u001b[0m, in \u001b[0;36mshow\u001b[1;34m(fig, renderer, validate, **kwargs)\u001b[0m\n\u001b[0;32m    385\u001b[0m fig_dict \u001b[39m=\u001b[39m validate_coerce_fig_to_dict(fig, validate)\n\u001b[0;32m    387\u001b[0m \u001b[39m# Mimetype renderers\u001b[39;00m\n\u001b[1;32m--> 388\u001b[0m bundle \u001b[39m=\u001b[39m renderers\u001b[39m.\u001b[39;49m_build_mime_bundle(fig_dict, renderers_string\u001b[39m=\u001b[39;49mrenderer, \u001b[39m*\u001b[39;49m\u001b[39m*\u001b[39;49mkwargs)\n\u001b[0;32m    389\u001b[0m \u001b[39mif\u001b[39;00m bundle:\n\u001b[0;32m    390\u001b[0m     \u001b[39mif\u001b[39;00m \u001b[39mnot\u001b[39;00m ipython_display:\n",
      "File \u001b[1;32mc:\\Users\\USER\\anaconda3\\envs\\dashboard\\Lib\\site-packages\\plotly\\io\\_renderers.py:296\u001b[0m, in \u001b[0;36mRenderersConfig._build_mime_bundle\u001b[1;34m(self, fig_dict, renderers_string, **kwargs)\u001b[0m\n\u001b[0;32m    293\u001b[0m             \u001b[39mif\u001b[39;00m \u001b[39mhasattr\u001b[39m(renderer, k):\n\u001b[0;32m    294\u001b[0m                 \u001b[39msetattr\u001b[39m(renderer, k, v)\n\u001b[1;32m--> 296\u001b[0m         bundle\u001b[39m.\u001b[39mupdate(renderer\u001b[39m.\u001b[39;49mto_mimebundle(fig_dict))\n\u001b[0;32m    298\u001b[0m \u001b[39mreturn\u001b[39;00m bundle\n",
      "File \u001b[1;32mc:\\Users\\USER\\anaconda3\\envs\\dashboard\\Lib\\site-packages\\plotly\\io\\_base_renderers.py:95\u001b[0m, in \u001b[0;36mPlotlyRenderer.to_mimebundle\u001b[1;34m(self, fig_dict)\u001b[0m\n\u001b[0;32m     91\u001b[0m \u001b[39mif\u001b[39;00m config:\n\u001b[0;32m     92\u001b[0m     fig_dict[\u001b[39m\"\u001b[39m\u001b[39mconfig\u001b[39m\u001b[39m\"\u001b[39m] \u001b[39m=\u001b[39m config\n\u001b[0;32m     94\u001b[0m json_compatible_fig_dict \u001b[39m=\u001b[39m json\u001b[39m.\u001b[39mloads(\n\u001b[1;32m---> 95\u001b[0m     to_json(fig_dict, validate\u001b[39m=\u001b[39;49m\u001b[39mFalse\u001b[39;49;00m, remove_uids\u001b[39m=\u001b[39;49m\u001b[39mFalse\u001b[39;49;00m)\n\u001b[0;32m     96\u001b[0m )\n\u001b[0;32m     98\u001b[0m \u001b[39mreturn\u001b[39;00m {\u001b[39m\"\u001b[39m\u001b[39mapplication/vnd.plotly.v1+json\u001b[39m\u001b[39m\"\u001b[39m: json_compatible_fig_dict}\n",
      "File \u001b[1;32mc:\\Users\\USER\\anaconda3\\envs\\dashboard\\Lib\\site-packages\\plotly\\io\\_json.py:199\u001b[0m, in \u001b[0;36mto_json\u001b[1;34m(fig, validate, pretty, remove_uids, engine)\u001b[0m\n\u001b[0;32m    196\u001b[0m     \u001b[39mfor\u001b[39;00m trace \u001b[39min\u001b[39;00m fig_dict\u001b[39m.\u001b[39mget(\u001b[39m\"\u001b[39m\u001b[39mdata\u001b[39m\u001b[39m\"\u001b[39m, []):\n\u001b[0;32m    197\u001b[0m         trace\u001b[39m.\u001b[39mpop(\u001b[39m\"\u001b[39m\u001b[39muid\u001b[39m\u001b[39m\"\u001b[39m, \u001b[39mNone\u001b[39;00m)\n\u001b[1;32m--> 199\u001b[0m \u001b[39mreturn\u001b[39;00m to_json_plotly(fig_dict, pretty\u001b[39m=\u001b[39;49mpretty, engine\u001b[39m=\u001b[39;49mengine)\n",
      "File \u001b[1;32mc:\\Users\\USER\\anaconda3\\envs\\dashboard\\Lib\\site-packages\\plotly\\io\\_json.py:123\u001b[0m, in \u001b[0;36mto_json_plotly\u001b[1;34m(plotly_object, pretty, engine)\u001b[0m\n\u001b[0;32m    119\u001b[0m         opts[\u001b[39m\"\u001b[39m\u001b[39mseparators\u001b[39m\u001b[39m\"\u001b[39m] \u001b[39m=\u001b[39m (\u001b[39m\"\u001b[39m\u001b[39m,\u001b[39m\u001b[39m\"\u001b[39m, \u001b[39m\"\u001b[39m\u001b[39m:\u001b[39m\u001b[39m\"\u001b[39m)\n\u001b[0;32m    121\u001b[0m     \u001b[39mfrom\u001b[39;00m \u001b[39m_plotly_utils\u001b[39;00m\u001b[39m.\u001b[39;00m\u001b[39mutils\u001b[39;00m \u001b[39mimport\u001b[39;00m PlotlyJSONEncoder\n\u001b[1;32m--> 123\u001b[0m     \u001b[39mreturn\u001b[39;00m json\u001b[39m.\u001b[39;49mdumps(plotly_object, \u001b[39mcls\u001b[39;49m\u001b[39m=\u001b[39;49mPlotlyJSONEncoder, \u001b[39m*\u001b[39;49m\u001b[39m*\u001b[39;49mopts)\n\u001b[0;32m    124\u001b[0m \u001b[39melif\u001b[39;00m engine \u001b[39m==\u001b[39m \u001b[39m\"\u001b[39m\u001b[39morjson\u001b[39m\u001b[39m\"\u001b[39m:\n\u001b[0;32m    125\u001b[0m     JsonConfig\u001b[39m.\u001b[39mvalidate_orjson()\n",
      "File \u001b[1;32mc:\\Users\\USER\\anaconda3\\envs\\dashboard\\Lib\\json\\__init__.py:238\u001b[0m, in \u001b[0;36mdumps\u001b[1;34m(obj, skipkeys, ensure_ascii, check_circular, allow_nan, cls, indent, separators, default, sort_keys, **kw)\u001b[0m\n\u001b[0;32m    232\u001b[0m \u001b[39mif\u001b[39;00m \u001b[39mcls\u001b[39m \u001b[39mis\u001b[39;00m \u001b[39mNone\u001b[39;00m:\n\u001b[0;32m    233\u001b[0m     \u001b[39mcls\u001b[39m \u001b[39m=\u001b[39m JSONEncoder\n\u001b[0;32m    234\u001b[0m \u001b[39mreturn\u001b[39;00m \u001b[39mcls\u001b[39;49m(\n\u001b[0;32m    235\u001b[0m     skipkeys\u001b[39m=\u001b[39;49mskipkeys, ensure_ascii\u001b[39m=\u001b[39;49mensure_ascii,\n\u001b[0;32m    236\u001b[0m     check_circular\u001b[39m=\u001b[39;49mcheck_circular, allow_nan\u001b[39m=\u001b[39;49mallow_nan, indent\u001b[39m=\u001b[39;49mindent,\n\u001b[0;32m    237\u001b[0m     separators\u001b[39m=\u001b[39;49mseparators, default\u001b[39m=\u001b[39;49mdefault, sort_keys\u001b[39m=\u001b[39;49msort_keys,\n\u001b[1;32m--> 238\u001b[0m     \u001b[39m*\u001b[39;49m\u001b[39m*\u001b[39;49mkw)\u001b[39m.\u001b[39;49mencode(obj)\n",
      "File \u001b[1;32mc:\\Users\\USER\\anaconda3\\envs\\dashboard\\Lib\\site-packages\\_plotly_utils\\utils.py:59\u001b[0m, in \u001b[0;36mPlotlyJSONEncoder.encode\u001b[1;34m(self, o)\u001b[0m\n\u001b[0;32m     52\u001b[0m \u001b[39m\"\"\"\u001b[39;00m\n\u001b[0;32m     53\u001b[0m \u001b[39mLoad and then dump the result using parse_constant kwarg\u001b[39;00m\n\u001b[0;32m     54\u001b[0m \n\u001b[0;32m     55\u001b[0m \u001b[39mNote that setting invalid separators will cause a failure at this step.\u001b[39;00m\n\u001b[0;32m     56\u001b[0m \n\u001b[0;32m     57\u001b[0m \u001b[39m\"\"\"\u001b[39;00m\n\u001b[0;32m     58\u001b[0m \u001b[39m# this will raise errors in a normal-expected way\u001b[39;00m\n\u001b[1;32m---> 59\u001b[0m encoded_o \u001b[39m=\u001b[39m \u001b[39msuper\u001b[39;49m(PlotlyJSONEncoder, \u001b[39mself\u001b[39;49m)\u001b[39m.\u001b[39;49mencode(o)\n\u001b[0;32m     60\u001b[0m \u001b[39m# Brute force guessing whether NaN or Infinity values are in the string\u001b[39;00m\n\u001b[0;32m     61\u001b[0m \u001b[39m# We catch false positive cases (e.g. strings such as titles, labels etc.)\u001b[39;00m\n\u001b[0;32m     62\u001b[0m \u001b[39m# but this is ok since the intention is to skip the decoding / reencoding\u001b[39;00m\n\u001b[0;32m     63\u001b[0m \u001b[39m# step when it's completely safe\u001b[39;00m\n\u001b[0;32m     65\u001b[0m \u001b[39mif\u001b[39;00m \u001b[39mnot\u001b[39;00m (\u001b[39m\"\u001b[39m\u001b[39mNaN\u001b[39m\u001b[39m\"\u001b[39m \u001b[39min\u001b[39;00m encoded_o \u001b[39mor\u001b[39;00m \u001b[39m\"\u001b[39m\u001b[39mInfinity\u001b[39m\u001b[39m\"\u001b[39m \u001b[39min\u001b[39;00m encoded_o):\n",
      "File \u001b[1;32mc:\\Users\\USER\\anaconda3\\envs\\dashboard\\Lib\\json\\encoder.py:200\u001b[0m, in \u001b[0;36mJSONEncoder.encode\u001b[1;34m(self, o)\u001b[0m\n\u001b[0;32m    196\u001b[0m         \u001b[39mreturn\u001b[39;00m encode_basestring(o)\n\u001b[0;32m    197\u001b[0m \u001b[39m# This doesn't pass the iterator directly to ''.join() because the\u001b[39;00m\n\u001b[0;32m    198\u001b[0m \u001b[39m# exceptions aren't as detailed.  The list call should be roughly\u001b[39;00m\n\u001b[0;32m    199\u001b[0m \u001b[39m# equivalent to the PySequence_Fast that ''.join() would do.\u001b[39;00m\n\u001b[1;32m--> 200\u001b[0m chunks \u001b[39m=\u001b[39m \u001b[39mself\u001b[39;49m\u001b[39m.\u001b[39;49miterencode(o, _one_shot\u001b[39m=\u001b[39;49m\u001b[39mTrue\u001b[39;49;00m)\n\u001b[0;32m    201\u001b[0m \u001b[39mif\u001b[39;00m \u001b[39mnot\u001b[39;00m \u001b[39misinstance\u001b[39m(chunks, (\u001b[39mlist\u001b[39m, \u001b[39mtuple\u001b[39m)):\n\u001b[0;32m    202\u001b[0m     chunks \u001b[39m=\u001b[39m \u001b[39mlist\u001b[39m(chunks)\n",
      "File \u001b[1;32mc:\\Users\\USER\\anaconda3\\envs\\dashboard\\Lib\\json\\encoder.py:258\u001b[0m, in \u001b[0;36mJSONEncoder.iterencode\u001b[1;34m(self, o, _one_shot)\u001b[0m\n\u001b[0;32m    253\u001b[0m \u001b[39melse\u001b[39;00m:\n\u001b[0;32m    254\u001b[0m     _iterencode \u001b[39m=\u001b[39m _make_iterencode(\n\u001b[0;32m    255\u001b[0m         markers, \u001b[39mself\u001b[39m\u001b[39m.\u001b[39mdefault, _encoder, \u001b[39mself\u001b[39m\u001b[39m.\u001b[39mindent, floatstr,\n\u001b[0;32m    256\u001b[0m         \u001b[39mself\u001b[39m\u001b[39m.\u001b[39mkey_separator, \u001b[39mself\u001b[39m\u001b[39m.\u001b[39mitem_separator, \u001b[39mself\u001b[39m\u001b[39m.\u001b[39msort_keys,\n\u001b[0;32m    257\u001b[0m         \u001b[39mself\u001b[39m\u001b[39m.\u001b[39mskipkeys, _one_shot)\n\u001b[1;32m--> 258\u001b[0m \u001b[39mreturn\u001b[39;00m _iterencode(o, \u001b[39m0\u001b[39;49m)\n",
      "File \u001b[1;32mc:\\Users\\USER\\anaconda3\\envs\\dashboard\\Lib\\site-packages\\_plotly_utils\\utils.py:136\u001b[0m, in \u001b[0;36mPlotlyJSONEncoder.default\u001b[1;34m(self, obj)\u001b[0m\n\u001b[0;32m    134\u001b[0m     \u001b[39mexcept\u001b[39;00m NotEncodable:\n\u001b[0;32m    135\u001b[0m         \u001b[39mpass\u001b[39;00m\n\u001b[1;32m--> 136\u001b[0m \u001b[39mreturn\u001b[39;00m _json\u001b[39m.\u001b[39;49mJSONEncoder\u001b[39m.\u001b[39;49mdefault(\u001b[39mself\u001b[39;49m, obj)\n",
      "File \u001b[1;32mc:\\Users\\USER\\anaconda3\\envs\\dashboard\\Lib\\json\\encoder.py:180\u001b[0m, in \u001b[0;36mJSONEncoder.default\u001b[1;34m(self, o)\u001b[0m\n\u001b[0;32m    161\u001b[0m \u001b[39mdef\u001b[39;00m \u001b[39mdefault\u001b[39m(\u001b[39mself\u001b[39m, o):\n\u001b[0;32m    162\u001b[0m     \u001b[39m\"\"\"Implement this method in a subclass such that it returns\u001b[39;00m\n\u001b[0;32m    163\u001b[0m \u001b[39m    a serializable object for ``o``, or calls the base implementation\u001b[39;00m\n\u001b[0;32m    164\u001b[0m \u001b[39m    (to raise a ``TypeError``).\u001b[39;00m\n\u001b[1;32m   (...)\u001b[0m\n\u001b[0;32m    178\u001b[0m \n\u001b[0;32m    179\u001b[0m \u001b[39m    \"\"\"\u001b[39;00m\n\u001b[1;32m--> 180\u001b[0m     \u001b[39mraise\u001b[39;00m \u001b[39mTypeError\u001b[39;00m(\u001b[39mf\u001b[39m\u001b[39m'\u001b[39m\u001b[39mObject of type \u001b[39m\u001b[39m{\u001b[39;00mo\u001b[39m.\u001b[39m\u001b[39m__class__\u001b[39m\u001b[39m.\u001b[39m\u001b[39m__name__\u001b[39m\u001b[39m}\u001b[39;00m\u001b[39m \u001b[39m\u001b[39m'\u001b[39m\n\u001b[0;32m    181\u001b[0m                     \u001b[39mf\u001b[39m\u001b[39m'\u001b[39m\u001b[39mis not JSON serializable\u001b[39m\u001b[39m'\u001b[39m)\n",
      "\u001b[1;31mTypeError\u001b[0m: Object of type Period is not JSON serializable"
     ]
    }
   ],
   "source": [
    "import pandas as pd\n",
    "import streamlit as st\n",
    "import plotly.express as px\n",
    "\n",
    "# Assuming you have the dataset loaded into a DataFrame called 'df'\n",
    "df = df1\n",
    "# Step 1: Convert 'date_arrivé' to a proper date format\n",
    "df['date_arrivé'] = pd.to_datetime(df['date_arrivé'])\n",
    "\n",
    "# Step 2: Extract the month and year from 'date_arrivé'\n",
    "df['month_year'] = df['date_arrivé'].dt.to_period('M')\n",
    "\n",
    "# Step 3: Group the data by month and year, and calculate the sum of 'total_frais_pliage'\n",
    "grouped_data = df.groupby('month_year')['total_frais_pliage'].sum().reset_index()\n",
    "\n",
    "\n",
    "\n",
    "\n",
    "# Plot the data using Plotly Express and display it in Streamlit\n",
    "fig = px.bar(grouped_data, x='month_year', y='total_frais_pliage',\n",
    "             labels={'total_frais_pliage': 'Total Frais Pliage'},\n",
    "             title='Total Frais Pliage by Month-Year')\n",
    "\n",
    "fig.show()\n",
    "fig.update_layout(xaxis_tickangle=-45)\n",
    "\n"
   ]
  },
  {
   "cell_type": "code",
   "execution_count": null,
   "metadata": {},
   "outputs": [
    {
     "data": {
      "text/html": [
       "<div>\n",
       "<style scoped>\n",
       "    .dataframe tbody tr th:only-of-type {\n",
       "        vertical-align: middle;\n",
       "    }\n",
       "\n",
       "    .dataframe tbody tr th {\n",
       "        vertical-align: top;\n",
       "    }\n",
       "\n",
       "    .dataframe thead th {\n",
       "        text-align: right;\n",
       "    }\n",
       "</style>\n",
       "<table border=\"1\" class=\"dataframe\">\n",
       "  <thead>\n",
       "    <tr style=\"text-align: right;\">\n",
       "      <th></th>\n",
       "      <th>month_year</th>\n",
       "      <th>total_frais_pliage</th>\n",
       "    </tr>\n",
       "  </thead>\n",
       "  <tbody>\n",
       "    <tr>\n",
       "      <th>0</th>\n",
       "      <td>2023-06</td>\n",
       "      <td>974300.0</td>\n",
       "    </tr>\n",
       "    <tr>\n",
       "      <th>1</th>\n",
       "      <td>2023-07</td>\n",
       "      <td>144200.0</td>\n",
       "    </tr>\n",
       "  </tbody>\n",
       "</table>\n",
       "</div>"
      ],
      "text/plain": [
       "  month_year  total_frais_pliage\n",
       "0    2023-06            974300.0\n",
       "1    2023-07            144200.0"
      ]
     },
     "execution_count": 62,
     "metadata": {},
     "output_type": "execute_result"
    }
   ],
   "source": []
  },
  {
   "cell_type": "code",
   "execution_count": null,
   "metadata": {},
   "outputs": [
    {
     "data": {
      "text/plain": [
       "<AxesSubplot: xlabel='nom_client'>"
      ]
     },
     "execution_count": 105,
     "metadata": {},
     "output_type": "execute_result"
    },
    {
     "data": {
      "image/png": "[encoded data removed]",
      "text/plain": [
       "<Figure size 640x480 with 1 Axes>"
      ]
     },
     "metadata": {},
     "output_type": "display_data"
    }
   ],
   "source": [
    "df1.nom_client.value_counts().head(15).plot(kind='bar')"
   ]
  },
  {
   "cell_type": "code",
   "execution_count": null,
   "metadata": {},
   "outputs": [
    {
     "data": {
      "application/vnd.plotly.v1+json": {
       "config": {
        "plotlyServerURL": "https://plot.ly"
       },
       "data": [
        {
         "alignmentgroup": "True",
         "hovertemplate": "variable=count<br>nom_client=%{x}<br>value=%{y}<extra></extra>",
         "legendgroup": "count",
         "marker": {
          "color": "#000001",
          "pattern": {
           "shape": ""
          }
         },
         "name": "count",
         "offsetgroup": "count",
         "orientation": "v",
         "showlegend": true,
         "textposition": "auto",
         "type": "bar",
         "x": [
          "RAHERY",
          "KEVIN",
          "MANAMPY",
          "MODESTE",
          "ZO",
          "FANILO",
          "BOSCO",
          "MISA",
          "JAMES",
          "JOHARY",
          "LIVA",
          "MAMY",
          "ELYSEE",
          "RADO",
          "CHELAH"
         ],
         "xaxis": "x",
         "y": [
          17,
          8,
          4,
          3,
          3,
          2,
          2,
          2,
          1,
          1,
          1,
          1,
          1,
          1,
          1
         ],
         "yaxis": "y"
        }
       ],
       "layout": {
        "barmode": "relative",
        "legend": {
         "title": {
          "text": "variable"
         },
         "tracegroupgap": 0
        },
        "margin": {
         "t": 60
        },
        "template": {
         "data": {
          "candlestick": [
           {
            "decreasing": {
             "line": {
              "color": "#000033"
             }
            },
            "increasing": {
             "line": {
              "color": "#000032"
             }
            },
            "type": "candlestick"
           }
          ],
          "contour": [
           {
            "colorscale": [
             [
              0,
              "#000011"
             ],
             [
              0.1111111111111111,
              "#000012"
             ],
             [
              0.2222222222222222,
              "#000013"
             ],
             [
              0.3333333333333333,
              "#000014"
             ],
             [
              0.4444444444444444,
              "#000015"
             ],
             [
              0.5555555555555556,
              "#000016"
             ],
             [
              0.6666666666666666,
              "#000017"
             ],
             [
              0.7777777777777778,
              "#000018"
             ],
             [
              0.8888888888888888,
              "#000019"
             ],
             [
              1,
              "#000020"
             ]
            ],
            "type": "contour"
           }
          ],
          "contourcarpet": [
           {
            "colorscale": [
             [
              0,
              "#000011"
             ],
             [
              0.1111111111111111,
              "#000012"
             ],
             [
              0.2222222222222222,
              "#000013"
             ],
             [
              0.3333333333333333,
              "#000014"
             ],
             [
              0.4444444444444444,
              "#000015"
             ],
             [
              0.5555555555555556,
              "#000016"
             ],
             [
              0.6666666666666666,
              "#000017"
             ],
             [
              0.7777777777777778,
              "#000018"
             ],
             [
              0.8888888888888888,
              "#000019"
             ],
             [
              1,
              "#000020"
             ]
            ],
            "type": "contourcarpet"
           }
          ],
          "heatmap": [
           {
            "colorscale": [
             [
              0,
              "#000011"
             ],
             [
              0.1111111111111111,
              "#000012"
             ],
             [
              0.2222222222222222,
              "#000013"
             ],
             [
              0.3333333333333333,
              "#000014"
             ],
             [
              0.4444444444444444,
              "#000015"
             ],
             [
              0.5555555555555556,
              "#000016"
             ],
             [
              0.6666666666666666,
              "#000017"
             ],
             [
              0.7777777777777778,
              "#000018"
             ],
             [
              0.8888888888888888,
              "#000019"
             ],
             [
              1,
              "#000020"
             ]
            ],
            "type": "heatmap"
           }
          ],
          "histogram2d": [
           {
            "colorscale": [
             [
              0,
              "#000011"
             ],
             [
              0.1111111111111111,
              "#000012"
             ],
             [
              0.2222222222222222,
              "#000013"
             ],
             [
              0.3333333333333333,
              "#000014"
             ],
             [
              0.4444444444444444,
              "#000015"
             ],
             [
              0.5555555555555556,
              "#000016"
             ],
             [
              0.6666666666666666,
              "#000017"
             ],
             [
              0.7777777777777778,
              "#000018"
             ],
             [
              0.8888888888888888,
              "#000019"
             ],
             [
              1,
              "#000020"
             ]
            ],
            "type": "histogram2d"
           }
          ],
          "icicle": [
           {
            "textfont": {
             "color": "white"
            },
            "type": "icicle"
           }
          ],
          "sankey": [
           {
            "textfont": {
             "color": "#000036"
            },
            "type": "sankey"
           }
          ],
          "scatter": [
           {
            "marker": {
             "line": {
              "width": 0
             }
            },
            "type": "scatter"
           }
          ],
          "table": [
           {
            "cells": {
             "fill": {
              "color": "#000038"
             },
             "font": {
              "color": "#000037"
             },
             "line": {
              "color": "#000039"
             }
            },
            "header": {
             "fill": {
              "color": "#000040"
             },
             "font": {
              "color": "#000036"
             },
             "line": {
              "color": "#000039"
             }
            },
            "type": "table"
           }
          ],
          "waterfall": [
           {
            "connector": {
             "line": {
              "color": "#000036",
              "width": 2
             }
            },
            "decreasing": {
             "marker": {
              "color": "#000033"
             }
            },
            "increasing": {
             "marker": {
              "color": "#000032"
             }
            },
            "totals": {
             "marker": {
              "color": "#000034"
             }
            },
            "type": "waterfall"
           }
          ]
         },
         "layout": {
          "coloraxis": {
           "colorscale": [
            [
             0,
             "#000011"
            ],
            [
             0.1111111111111111,
             "#000012"
            ],
            [
             0.2222222222222222,
             "#000013"
            ],
            [
             0.3333333333333333,
             "#000014"
            ],
            [
             0.4444444444444444,
             "#000015"
            ],
            [
             0.5555555555555556,
             "#000016"
            ],
            [
             0.6666666666666666,
             "#000017"
            ],
            [
             0.7777777777777778,
             "#000018"
            ],
            [
             0.8888888888888888,
             "#000019"
            ],
            [
             1,
             "#000020"
            ]
           ]
          },
          "colorscale": {
           "diverging": [
            [
             0,
             "#000021"
            ],
            [
             0.1,
             "#000022"
            ],
            [
             0.2,
             "#000023"
            ],
            [
             0.3,
             "#000024"
            ],
            [
             0.4,
             "#000025"
            ],
            [
             0.5,
             "#000026"
            ],
            [
             0.6,
             "#000027"
            ],
            [
             0.7,
             "#000028"
            ],
            [
             0.8,
             "#000029"
            ],
            [
             0.9,
             "#000030"
            ],
            [
             1,
             "#000031"
            ]
           ],
           "sequential": [
            [
             0,
             "#000011"
            ],
            [
             0.1111111111111111,
             "#000012"
            ],
            [
             0.2222222222222222,
             "#000013"
            ],
            [
             0.3333333333333333,
             "#000014"
            ],
            [
             0.4444444444444444,
             "#000015"
            ],
            [
             0.5555555555555556,
             "#000016"
            ],
            [
             0.6666666666666666,
             "#000017"
            ],
            [
             0.7777777777777778,
             "#000018"
            ],
            [
             0.8888888888888888,
             "#000019"
            ],
            [
             1,
             "#000020"
            ]
           ],
           "sequentialminus": [
            [
             0,
             "#000011"
            ],
            [
             0.1111111111111111,
             "#000012"
            ],
            [
             0.2222222222222222,
             "#000013"
            ],
            [
             0.3333333333333333,
             "#000014"
            ],
            [
             0.4444444444444444,
             "#000015"
            ],
            [
             0.5555555555555556,
             "#000016"
            ],
            [
             0.6666666666666666,
             "#000017"
            ],
            [
             0.7777777777777778,
             "#000018"
            ],
            [
             0.8888888888888888,
             "#000019"
            ],
            [
             1,
             "#000020"
            ]
           ]
          },
          "colorway": [
           "#000001",
           "#000002",
           "#000003",
           "#000004",
           "#000005",
           "#000006",
           "#000007",
           "#000008",
           "#000009",
           "#000010"
          ]
         }
        },
        "xaxis": {
         "anchor": "y",
         "domain": [
          0,
          1
         ],
         "title": {
          "text": "nom_client"
         }
        },
        "yaxis": {
         "anchor": "x",
         "domain": [
          0,
          1
         ],
         "title": {
          "text": "value"
         }
        }
       }
      }
     },
     "metadata": {},
     "output_type": "display_data"
    }
   ],
   "source": [
    "fig = px.bar(df1.nom_client.value_counts().head(15))\n",
    "fig.show()"
   ]
  },
  {
   "cell_type": "code",
   "execution_count": null,
   "metadata": {},
   "outputs": [],
   "source": [
    "df1['date_arrivé'] = pd.to_datetime(df1['date_arrivé'], errors='coerce')\n",
    "\n",
    "# Step 2: Sort the DataFrame by 'nom_client' and 'date_arrivé'\n",
    "df_sorted = df1.sort_values(by=['nom_client', 'date_arrivé'])\n",
    "\n",
    "# Step 3: Calculate the time difference between consecutive arrival dates for each client\n",
    "df_sorted['arrival_interval'] = df_sorted.groupby('nom_client')['date_arrivé'].diff()\n",
    "\n",
    "# Step 4: Calculate the average arrival interval in days\n",
    "average_arrival_interval_days = df_sorted['arrival_interval'].mean().days"
   ]
  },
  {
   "cell_type": "code",
   "execution_count": null,
   "metadata": {},
   "outputs": [
    {
     "data": {
      "text/plain": [
       "4"
      ]
     },
     "execution_count": 127,
     "metadata": {},
     "output_type": "execute_result"
    }
   ],
   "source": [
    "average_arrival_interval_days\n",
    "\n"
   ]
  },
  {
   "cell_type": "code",
   "execution_count": null,
   "metadata": {},
   "outputs": [
    {
     "data": {
      "text/html": [
       "<div>\n",
       "<style scoped>\n",
       "    .dataframe tbody tr th:only-of-type {\n",
       "        vertical-align: middle;\n",
       "    }\n",
       "\n",
       "    .dataframe tbody tr th {\n",
       "        vertical-align: top;\n",
       "    }\n",
       "\n",
       "    .dataframe thead th {\n",
       "        text-align: right;\n",
       "    }\n",
       "</style>\n",
       "<table border=\"1\" class=\"dataframe\">\n",
       "  <thead>\n",
       "    <tr style=\"text-align: right;\">\n",
       "      <th></th>\n",
       "      <th>nom_client</th>\n",
       "      <th>date_arrivé</th>\n",
       "      <th>heure_arrivé</th>\n",
       "      <th>qty_tole</th>\n",
       "      <th>total_vente_tole</th>\n",
       "      <th>total_frais_pliage</th>\n",
       "      <th>total_remise</th>\n",
       "      <th>total_chute</th>\n",
       "      <th>frais_pliage_by_tole</th>\n",
       "    </tr>\n",
       "  </thead>\n",
       "  <tbody>\n",
       "    <tr>\n",
       "      <th>0</th>\n",
       "      <td>BOLIDA</td>\n",
       "      <td>2023-06-13</td>\n",
       "      <td>18:36:00</td>\n",
       "      <td>0.400000</td>\n",
       "      <td>0.0</td>\n",
       "      <td>20000.0</td>\n",
       "      <td>0.0</td>\n",
       "      <td>0.00000</td>\n",
       "      <td>18000.000000</td>\n",
       "    </tr>\n",
       "    <tr>\n",
       "      <th>1</th>\n",
       "      <td>BOSCO</td>\n",
       "      <td>2023-06-19</td>\n",
       "      <td>19:01:00</td>\n",
       "      <td>15.000000</td>\n",
       "      <td>0.0</td>\n",
       "      <td>60000.0</td>\n",
       "      <td>0.0</td>\n",
       "      <td>0.00000</td>\n",
       "      <td>18000.000000</td>\n",
       "    </tr>\n",
       "    <tr>\n",
       "      <th>2</th>\n",
       "      <td>BOSCO</td>\n",
       "      <td>2023-06-30</td>\n",
       "      <td>19:31:00</td>\n",
       "      <td>11.000000</td>\n",
       "      <td>0.0</td>\n",
       "      <td>50600.0</td>\n",
       "      <td>0.0</td>\n",
       "      <td>0.00000</td>\n",
       "      <td>10000.000000</td>\n",
       "    </tr>\n",
       "    <tr>\n",
       "      <th>3</th>\n",
       "      <td>CHELAH</td>\n",
       "      <td>2023-06-16</td>\n",
       "      <td>19:00:00</td>\n",
       "      <td>0.390000</td>\n",
       "      <td>0.0</td>\n",
       "      <td>9400.0</td>\n",
       "      <td>0.0</td>\n",
       "      <td>0.00000</td>\n",
       "      <td>30000.000000</td>\n",
       "    </tr>\n",
       "    <tr>\n",
       "      <th>4</th>\n",
       "      <td>ELYSEE</td>\n",
       "      <td>2023-06-16</td>\n",
       "      <td>18:58:00</td>\n",
       "      <td>1.000000</td>\n",
       "      <td>97000.0</td>\n",
       "      <td>15000.0</td>\n",
       "      <td>0.0</td>\n",
       "      <td>0.35000</td>\n",
       "      <td>5760.000000</td>\n",
       "    </tr>\n",
       "    <tr>\n",
       "      <th>5</th>\n",
       "      <td>FANILO</td>\n",
       "      <td>2023-06-12</td>\n",
       "      <td>09:15:00</td>\n",
       "      <td>1.000000</td>\n",
       "      <td>0.0</td>\n",
       "      <td>12000.0</td>\n",
       "      <td>0.0</td>\n",
       "      <td>0.00000</td>\n",
       "      <td>31200.000000</td>\n",
       "    </tr>\n",
       "    <tr>\n",
       "      <th>6</th>\n",
       "      <td>FANILO</td>\n",
       "      <td>2023-06-23</td>\n",
       "      <td>15:14:00</td>\n",
       "      <td>2.000000</td>\n",
       "      <td>0.0</td>\n",
       "      <td>30000.0</td>\n",
       "      <td>0.0</td>\n",
       "      <td>0.00000</td>\n",
       "      <td>19500.000000</td>\n",
       "    </tr>\n",
       "    <tr>\n",
       "      <th>7</th>\n",
       "      <td>JAMES</td>\n",
       "      <td>2023-07-03</td>\n",
       "      <td>19:42:00</td>\n",
       "      <td>0.480600</td>\n",
       "      <td>0.0</td>\n",
       "      <td>4800.0</td>\n",
       "      <td>0.0</td>\n",
       "      <td>0.12636</td>\n",
       "      <td>12000.000000</td>\n",
       "    </tr>\n",
       "    <tr>\n",
       "      <th>8</th>\n",
       "      <td>JOHARY</td>\n",
       "      <td>2023-06-16</td>\n",
       "      <td>18:56:00</td>\n",
       "      <td>0.091140</td>\n",
       "      <td>0.0</td>\n",
       "      <td>32000.0</td>\n",
       "      <td>0.0</td>\n",
       "      <td>0.00000</td>\n",
       "      <td>12000.000000</td>\n",
       "    </tr>\n",
       "    <tr>\n",
       "      <th>9</th>\n",
       "      <td>KEVIN</td>\n",
       "      <td>2023-06-09</td>\n",
       "      <td>18:32:00</td>\n",
       "      <td>1.000000</td>\n",
       "      <td>0.0</td>\n",
       "      <td>12000.0</td>\n",
       "      <td>0.0</td>\n",
       "      <td>0.00000</td>\n",
       "      <td>12000.000000</td>\n",
       "    </tr>\n",
       "    <tr>\n",
       "      <th>10</th>\n",
       "      <td>KEVIN</td>\n",
       "      <td>2023-06-20</td>\n",
       "      <td>08:30:00</td>\n",
       "      <td>1.000000</td>\n",
       "      <td>0.0</td>\n",
       "      <td>12000.0</td>\n",
       "      <td>0.0</td>\n",
       "      <td>0.00000</td>\n",
       "      <td>1920.000000</td>\n",
       "    </tr>\n",
       "    <tr>\n",
       "      <th>11</th>\n",
       "      <td>KEVIN</td>\n",
       "      <td>2023-06-21</td>\n",
       "      <td>19:02:00</td>\n",
       "      <td>2.000000</td>\n",
       "      <td>0.0</td>\n",
       "      <td>24000.0</td>\n",
       "      <td>0.0</td>\n",
       "      <td>0.00000</td>\n",
       "      <td>50000.000000</td>\n",
       "    </tr>\n",
       "    <tr>\n",
       "      <th>12</th>\n",
       "      <td>KEVIN</td>\n",
       "      <td>2023-06-22</td>\n",
       "      <td>07:45:00</td>\n",
       "      <td>1.000000</td>\n",
       "      <td>0.0</td>\n",
       "      <td>15000.0</td>\n",
       "      <td>0.0</td>\n",
       "      <td>0.00000</td>\n",
       "      <td>10000.000000</td>\n",
       "    </tr>\n",
       "    <tr>\n",
       "      <th>13</th>\n",
       "      <td>KEVIN</td>\n",
       "      <td>2023-06-22</td>\n",
       "      <td>14:49:00</td>\n",
       "      <td>1.000000</td>\n",
       "      <td>0.0</td>\n",
       "      <td>12000.0</td>\n",
       "      <td>0.0</td>\n",
       "      <td>0.00000</td>\n",
       "      <td>144000.000000</td>\n",
       "    </tr>\n",
       "    <tr>\n",
       "      <th>14</th>\n",
       "      <td>KEVIN</td>\n",
       "      <td>2023-06-23</td>\n",
       "      <td>19:13:00</td>\n",
       "      <td>1.000000</td>\n",
       "      <td>0.0</td>\n",
       "      <td>15000.0</td>\n",
       "      <td>0.0</td>\n",
       "      <td>0.00000</td>\n",
       "      <td>123750.000000</td>\n",
       "    </tr>\n",
       "    <tr>\n",
       "      <th>15</th>\n",
       "      <td>KEVIN</td>\n",
       "      <td>2023-07-03</td>\n",
       "      <td>11:00:00</td>\n",
       "      <td>2.000000</td>\n",
       "      <td>0.0</td>\n",
       "      <td>30000.0</td>\n",
       "      <td>0.0</td>\n",
       "      <td>0.00000</td>\n",
       "      <td>44055.068836</td>\n",
       "    </tr>\n",
       "    <tr>\n",
       "      <th>16</th>\n",
       "      <td>KEVIN</td>\n",
       "      <td>2023-07-03</td>\n",
       "      <td>16:05:00</td>\n",
       "      <td>0.500000</td>\n",
       "      <td>0.0</td>\n",
       "      <td>3200.0</td>\n",
       "      <td>0.0</td>\n",
       "      <td>0.00000</td>\n",
       "      <td>351108.185210</td>\n",
       "    </tr>\n",
       "    <tr>\n",
       "      <th>17</th>\n",
       "      <td>LIVA</td>\n",
       "      <td>2023-06-09</td>\n",
       "      <td>13:00:00</td>\n",
       "      <td>3.000000</td>\n",
       "      <td>0.0</td>\n",
       "      <td>36000.0</td>\n",
       "      <td>0.0</td>\n",
       "      <td>0.00000</td>\n",
       "      <td>15000.000000</td>\n",
       "    </tr>\n",
       "    <tr>\n",
       "      <th>18</th>\n",
       "      <td>MAMY</td>\n",
       "      <td>2023-06-13</td>\n",
       "      <td>18:50:00</td>\n",
       "      <td>1.000000</td>\n",
       "      <td>0.0</td>\n",
       "      <td>10000.0</td>\n",
       "      <td>0.0</td>\n",
       "      <td>0.04400</td>\n",
       "      <td>24102.564103</td>\n",
       "    </tr>\n",
       "    <tr>\n",
       "      <th>19</th>\n",
       "      <td>MANAMPY</td>\n",
       "      <td>2023-06-01</td>\n",
       "      <td>18:23:00</td>\n",
       "      <td>2.000000</td>\n",
       "      <td>0.0</td>\n",
       "      <td>20000.0</td>\n",
       "      <td>0.0</td>\n",
       "      <td>0.00000</td>\n",
       "      <td>4000.000000</td>\n",
       "    </tr>\n",
       "    <tr>\n",
       "      <th>20</th>\n",
       "      <td>MANAMPY</td>\n",
       "      <td>2023-06-23</td>\n",
       "      <td>06:10:00</td>\n",
       "      <td>0.360000</td>\n",
       "      <td>0.0</td>\n",
       "      <td>10000.0</td>\n",
       "      <td>0.0</td>\n",
       "      <td>0.00000</td>\n",
       "      <td>12000.000000</td>\n",
       "    </tr>\n",
       "    <tr>\n",
       "      <th>21</th>\n",
       "      <td>MANAMPY</td>\n",
       "      <td>2023-06-27</td>\n",
       "      <td>19:19:00</td>\n",
       "      <td>2.000000</td>\n",
       "      <td>0.0</td>\n",
       "      <td>20000.0</td>\n",
       "      <td>0.0</td>\n",
       "      <td>0.00000</td>\n",
       "      <td>12000.000000</td>\n",
       "    </tr>\n",
       "    <tr>\n",
       "      <th>22</th>\n",
       "      <td>MANAMPY</td>\n",
       "      <td>2023-06-30</td>\n",
       "      <td>10:47:00</td>\n",
       "      <td>2.000000</td>\n",
       "      <td>0.0</td>\n",
       "      <td>20000.0</td>\n",
       "      <td>0.0</td>\n",
       "      <td>0.00000</td>\n",
       "      <td>15000.000000</td>\n",
       "    </tr>\n",
       "    <tr>\n",
       "      <th>23</th>\n",
       "      <td>MISA</td>\n",
       "      <td>2023-06-14</td>\n",
       "      <td>18:54:00</td>\n",
       "      <td>0.609437</td>\n",
       "      <td>0.0</td>\n",
       "      <td>19800.0</td>\n",
       "      <td>0.0</td>\n",
       "      <td>0.00000</td>\n",
       "      <td>9000.000000</td>\n",
       "    </tr>\n",
       "    <tr>\n",
       "      <th>24</th>\n",
       "      <td>MISA</td>\n",
       "      <td>2023-06-23</td>\n",
       "      <td>09:30:00</td>\n",
       "      <td>4.000000</td>\n",
       "      <td>0.0</td>\n",
       "      <td>60000.0</td>\n",
       "      <td>0.0</td>\n",
       "      <td>0.00000</td>\n",
       "      <td>15000.000000</td>\n",
       "    </tr>\n",
       "    <tr>\n",
       "      <th>25</th>\n",
       "      <td>MODESTE</td>\n",
       "      <td>2023-06-21</td>\n",
       "      <td>19:04:00</td>\n",
       "      <td>2.000000</td>\n",
       "      <td>0.0</td>\n",
       "      <td>18000.0</td>\n",
       "      <td>0.0</td>\n",
       "      <td>0.00000</td>\n",
       "      <td>15000.000000</td>\n",
       "    </tr>\n",
       "    <tr>\n",
       "      <th>26</th>\n",
       "      <td>MODESTE</td>\n",
       "      <td>2023-06-28</td>\n",
       "      <td>19:21:00</td>\n",
       "      <td>2.000000</td>\n",
       "      <td>0.0</td>\n",
       "      <td>18000.0</td>\n",
       "      <td>0.0</td>\n",
       "      <td>0.70700</td>\n",
       "      <td>41600.000000</td>\n",
       "    </tr>\n",
       "    <tr>\n",
       "      <th>27</th>\n",
       "      <td>MODESTE</td>\n",
       "      <td>2023-06-29</td>\n",
       "      <td>19:26:00</td>\n",
       "      <td>0.707000</td>\n",
       "      <td>0.0</td>\n",
       "      <td>12000.0</td>\n",
       "      <td>0.0</td>\n",
       "      <td>0.03200</td>\n",
       "      <td>15000.000000</td>\n",
       "    </tr>\n",
       "    <tr>\n",
       "      <th>28</th>\n",
       "      <td>RADO</td>\n",
       "      <td>2023-07-03</td>\n",
       "      <td>10:02:00</td>\n",
       "      <td>1.000000</td>\n",
       "      <td>0.0</td>\n",
       "      <td>15000.0</td>\n",
       "      <td>0.0</td>\n",
       "      <td>0.00000</td>\n",
       "      <td>20000.000000</td>\n",
       "    </tr>\n",
       "    <tr>\n",
       "      <th>29</th>\n",
       "      <td>RAHERY</td>\n",
       "      <td>2023-06-01</td>\n",
       "      <td>09:45:00</td>\n",
       "      <td>1.000000</td>\n",
       "      <td>0.0</td>\n",
       "      <td>18000.0</td>\n",
       "      <td>0.0</td>\n",
       "      <td>0.00000</td>\n",
       "      <td>80000.000000</td>\n",
       "    </tr>\n",
       "    <tr>\n",
       "      <th>30</th>\n",
       "      <td>RAHERY</td>\n",
       "      <td>2023-06-01</td>\n",
       "      <td>18:20:00</td>\n",
       "      <td>1.000000</td>\n",
       "      <td>0.0</td>\n",
       "      <td>18000.0</td>\n",
       "      <td>0.0</td>\n",
       "      <td>0.00000</td>\n",
       "      <td>12000.000000</td>\n",
       "    </tr>\n",
       "    <tr>\n",
       "      <th>31</th>\n",
       "      <td>RAHERY</td>\n",
       "      <td>2023-06-09</td>\n",
       "      <td>08:56:00</td>\n",
       "      <td>1.000000</td>\n",
       "      <td>0.0</td>\n",
       "      <td>19500.0</td>\n",
       "      <td>0.0</td>\n",
       "      <td>0.00000</td>\n",
       "      <td>15000.000000</td>\n",
       "    </tr>\n",
       "    <tr>\n",
       "      <th>32</th>\n",
       "      <td>RAHERY</td>\n",
       "      <td>2023-06-21</td>\n",
       "      <td>09:30:00</td>\n",
       "      <td>1.000000</td>\n",
       "      <td>0.0</td>\n",
       "      <td>15000.0</td>\n",
       "      <td>0.0</td>\n",
       "      <td>0.00000</td>\n",
       "      <td>15000.000000</td>\n",
       "    </tr>\n",
       "    <tr>\n",
       "      <th>33</th>\n",
       "      <td>RAHERY</td>\n",
       "      <td>2023-06-22</td>\n",
       "      <td>08:50:00</td>\n",
       "      <td>1.000000</td>\n",
       "      <td>0.0</td>\n",
       "      <td>15000.0</td>\n",
       "      <td>0.0</td>\n",
       "      <td>0.00000</td>\n",
       "      <td>15000.000000</td>\n",
       "    </tr>\n",
       "    <tr>\n",
       "      <th>34</th>\n",
       "      <td>RAHERY</td>\n",
       "      <td>2023-06-22</td>\n",
       "      <td>19:07:00</td>\n",
       "      <td>1.000000</td>\n",
       "      <td>0.0</td>\n",
       "      <td>15000.0</td>\n",
       "      <td>0.0</td>\n",
       "      <td>0.00000</td>\n",
       "      <td>27777.777778</td>\n",
       "    </tr>\n",
       "    <tr>\n",
       "      <th>35</th>\n",
       "      <td>RAHERY</td>\n",
       "      <td>2023-06-23</td>\n",
       "      <td>08:30:00</td>\n",
       "      <td>2.000000</td>\n",
       "      <td>0.0</td>\n",
       "      <td>30000.0</td>\n",
       "      <td>0.0</td>\n",
       "      <td>0.00000</td>\n",
       "      <td>15000.000000</td>\n",
       "    </tr>\n",
       "    <tr>\n",
       "      <th>36</th>\n",
       "      <td>RAHERY</td>\n",
       "      <td>2023-06-27</td>\n",
       "      <td>10:20:00</td>\n",
       "      <td>1.000000</td>\n",
       "      <td>0.0</td>\n",
       "      <td>12000.0</td>\n",
       "      <td>0.0</td>\n",
       "      <td>0.00000</td>\n",
       "      <td>12000.000000</td>\n",
       "    </tr>\n",
       "    <tr>\n",
       "      <th>37</th>\n",
       "      <td>RAHERY</td>\n",
       "      <td>2023-06-28</td>\n",
       "      <td>15:34:00</td>\n",
       "      <td>1.000000</td>\n",
       "      <td>0.0</td>\n",
       "      <td>15000.0</td>\n",
       "      <td>0.0</td>\n",
       "      <td>0.00000</td>\n",
       "      <td>10000.000000</td>\n",
       "    </tr>\n",
       "    <tr>\n",
       "      <th>38</th>\n",
       "      <td>RAHERY</td>\n",
       "      <td>2023-06-28</td>\n",
       "      <td>19:22:00</td>\n",
       "      <td>1.000000</td>\n",
       "      <td>0.0</td>\n",
       "      <td>12000.0</td>\n",
       "      <td>0.0</td>\n",
       "      <td>0.00000</td>\n",
       "      <td>9000.000000</td>\n",
       "    </tr>\n",
       "    <tr>\n",
       "      <th>39</th>\n",
       "      <td>RAHERY</td>\n",
       "      <td>2023-06-29</td>\n",
       "      <td>19:27:00</td>\n",
       "      <td>1.000000</td>\n",
       "      <td>0.0</td>\n",
       "      <td>15000.0</td>\n",
       "      <td>0.0</td>\n",
       "      <td>0.00000</td>\n",
       "      <td>12000.000000</td>\n",
       "    </tr>\n",
       "    <tr>\n",
       "      <th>40</th>\n",
       "      <td>RAHERY</td>\n",
       "      <td>2023-06-30</td>\n",
       "      <td>11:35:00</td>\n",
       "      <td>0.565000</td>\n",
       "      <td>0.0</td>\n",
       "      <td>3200.0</td>\n",
       "      <td>0.0</td>\n",
       "      <td>0.00000</td>\n",
       "      <td>15000.000000</td>\n",
       "    </tr>\n",
       "    <tr>\n",
       "      <th>41</th>\n",
       "      <td>RAHERY</td>\n",
       "      <td>2023-06-30</td>\n",
       "      <td>14:23:00</td>\n",
       "      <td>2.000000</td>\n",
       "      <td>0.0</td>\n",
       "      <td>15600.0</td>\n",
       "      <td>0.0</td>\n",
       "      <td>0.00000</td>\n",
       "      <td>92307.692308</td>\n",
       "    </tr>\n",
       "    <tr>\n",
       "      <th>42</th>\n",
       "      <td>RAHERY</td>\n",
       "      <td>2023-06-30</td>\n",
       "      <td>19:28:00</td>\n",
       "      <td>1.695000</td>\n",
       "      <td>0.0</td>\n",
       "      <td>13200.0</td>\n",
       "      <td>0.0</td>\n",
       "      <td>0.00000</td>\n",
       "      <td>22641.509434</td>\n",
       "    </tr>\n",
       "    <tr>\n",
       "      <th>43</th>\n",
       "      <td>RAHERY</td>\n",
       "      <td>2023-06-30</td>\n",
       "      <td>19:29:00</td>\n",
       "      <td>1.000000</td>\n",
       "      <td>0.0</td>\n",
       "      <td>15000.0</td>\n",
       "      <td>0.0</td>\n",
       "      <td>0.00000</td>\n",
       "      <td>255319.148936</td>\n",
       "    </tr>\n",
       "    <tr>\n",
       "      <th>44</th>\n",
       "      <td>RAHERY</td>\n",
       "      <td>2023-07-03</td>\n",
       "      <td>09:13:00</td>\n",
       "      <td>0.050000</td>\n",
       "      <td>0.0</td>\n",
       "      <td>1500.0</td>\n",
       "      <td>0.0</td>\n",
       "      <td>0.00000</td>\n",
       "      <td>15000.000000</td>\n",
       "    </tr>\n",
       "    <tr>\n",
       "      <th>45</th>\n",
       "      <td>RAHERY</td>\n",
       "      <td>2023-07-03</td>\n",
       "      <td>19:41:00</td>\n",
       "      <td>1.680000</td>\n",
       "      <td>0.0</td>\n",
       "      <td>9600.0</td>\n",
       "      <td>0.0</td>\n",
       "      <td>0.00000</td>\n",
       "      <td>7787.610619</td>\n",
       "    </tr>\n",
       "    <tr>\n",
       "      <th>46</th>\n",
       "      <td>ROBINSON</td>\n",
       "      <td>2023-06-13</td>\n",
       "      <td>11:45:00</td>\n",
       "      <td>0.100000</td>\n",
       "      <td>0.0</td>\n",
       "      <td>14400.0</td>\n",
       "      <td>0.0</td>\n",
       "      <td>0.00000</td>\n",
       "      <td>15000.000000</td>\n",
       "    </tr>\n",
       "    <tr>\n",
       "      <th>47</th>\n",
       "      <td>SANTATRA</td>\n",
       "      <td>2023-06-08</td>\n",
       "      <td>18:30:00</td>\n",
       "      <td>1.000000</td>\n",
       "      <td>0.0</td>\n",
       "      <td>31200.0</td>\n",
       "      <td>0.0</td>\n",
       "      <td>0.21300</td>\n",
       "      <td>10000.000000</td>\n",
       "    </tr>\n",
       "    <tr>\n",
       "      <th>48</th>\n",
       "      <td>TIANA</td>\n",
       "      <td>2023-06-08</td>\n",
       "      <td>18:27:00</td>\n",
       "      <td>9.375000</td>\n",
       "      <td>0.0</td>\n",
       "      <td>54000.0</td>\n",
       "      <td>0.0</td>\n",
       "      <td>0.00000</td>\n",
       "      <td>5663.716814</td>\n",
       "    </tr>\n",
       "    <tr>\n",
       "      <th>49</th>\n",
       "      <td>TINA</td>\n",
       "      <td>2023-06-12</td>\n",
       "      <td>16:00:00</td>\n",
       "      <td>7.812500</td>\n",
       "      <td>0.0</td>\n",
       "      <td>15000.0</td>\n",
       "      <td>0.0</td>\n",
       "      <td>0.00000</td>\n",
       "      <td>4600.000000</td>\n",
       "    </tr>\n",
       "    <tr>\n",
       "      <th>50</th>\n",
       "      <td>TSIRY</td>\n",
       "      <td>2023-06-22</td>\n",
       "      <td>19:08:00</td>\n",
       "      <td>2.500000</td>\n",
       "      <td>0.0</td>\n",
       "      <td>40000.0</td>\n",
       "      <td>0.0</td>\n",
       "      <td>0.00000</td>\n",
       "      <td>7800.000000</td>\n",
       "    </tr>\n",
       "    <tr>\n",
       "      <th>51</th>\n",
       "      <td>ZO</td>\n",
       "      <td>2023-06-06</td>\n",
       "      <td>18:24:00</td>\n",
       "      <td>0.500000</td>\n",
       "      <td>0.0</td>\n",
       "      <td>15000.0</td>\n",
       "      <td>0.0</td>\n",
       "      <td>0.00000</td>\n",
       "      <td>30000.000000</td>\n",
       "    </tr>\n",
       "    <tr>\n",
       "      <th>52</th>\n",
       "      <td>ZO</td>\n",
       "      <td>2023-06-22</td>\n",
       "      <td>19:06:00</td>\n",
       "      <td>0.250000</td>\n",
       "      <td>0.0</td>\n",
       "      <td>10400.0</td>\n",
       "      <td>0.0</td>\n",
       "      <td>0.05000</td>\n",
       "      <td>40050.000000</td>\n",
       "    </tr>\n",
       "    <tr>\n",
       "      <th>53</th>\n",
       "      <td>ZO</td>\n",
       "      <td>2023-07-03</td>\n",
       "      <td>19:38:00</td>\n",
       "      <td>2.000000</td>\n",
       "      <td>0.0</td>\n",
       "      <td>80100.0</td>\n",
       "      <td>0.0</td>\n",
       "      <td>0.72500</td>\n",
       "      <td>15000.000000</td>\n",
       "    </tr>\n",
       "  </tbody>\n",
       "</table>\n",
       "</div>"
      ],
      "text/plain": [
       "   nom_client date_arrivé heure_arrivé   qty_tole  total_vente_tole  \\\n",
       "0      BOLIDA  2023-06-13     18:36:00   0.400000               0.0   \n",
       "1       BOSCO  2023-06-19     19:01:00  15.000000               0.0   \n",
       "2       BOSCO  2023-06-30     19:31:00  11.000000               0.0   \n",
       "3      CHELAH  2023-06-16     19:00:00   0.390000               0.0   \n",
       "4      ELYSEE  2023-06-16     18:58:00   1.000000           97000.0   \n",
       "5      FANILO  2023-06-12     09:15:00   1.000000               0.0   \n",
       "6      FANILO  2023-06-23     15:14:00   2.000000               0.0   \n",
       "7       JAMES  2023-07-03     19:42:00   0.480600               0.0   \n",
       "8      JOHARY  2023-06-16     18:56:00   0.091140               0.0   \n",
       "9       KEVIN  2023-06-09     18:32:00   1.000000               0.0   \n",
       "10      KEVIN  2023-06-20     08:30:00   1.000000               0.0   \n",
       "11      KEVIN  2023-06-21     19:02:00   2.000000               0.0   \n",
       "12      KEVIN  2023-06-22     07:45:00   1.000000               0.0   \n",
       "13      KEVIN  2023-06-22     14:49:00   1.000000               0.0   \n",
       "14      KEVIN  2023-06-23     19:13:00   1.000000               0.0   \n",
       "15      KEVIN  2023-07-03     11:00:00   2.000000               0.0   \n",
       "16      KEVIN  2023-07-03     16:05:00   0.500000               0.0   \n",
       "17       LIVA  2023-06-09     13:00:00   3.000000               0.0   \n",
       "18       MAMY  2023-06-13     18:50:00   1.000000               0.0   \n",
       "19    MANAMPY  2023-06-01     18:23:00   2.000000               0.0   \n",
       "20    MANAMPY  2023-06-23     06:10:00   0.360000               0.0   \n",
       "21    MANAMPY  2023-06-27     19:19:00   2.000000               0.0   \n",
       "22    MANAMPY  2023-06-30     10:47:00   2.000000               0.0   \n",
       "23       MISA  2023-06-14     18:54:00   0.609437               0.0   \n",
       "24       MISA  2023-06-23     09:30:00   4.000000               0.0   \n",
       "25    MODESTE  2023-06-21     19:04:00   2.000000               0.0   \n",
       "26    MODESTE  2023-06-28     19:21:00   2.000000               0.0   \n",
       "27    MODESTE  2023-06-29     19:26:00   0.707000               0.0   \n",
       "28       RADO  2023-07-03     10:02:00   1.000000               0.0   \n",
       "29     RAHERY  2023-06-01     09:45:00   1.000000               0.0   \n",
       "30     RAHERY  2023-06-01     18:20:00   1.000000               0.0   \n",
       "31     RAHERY  2023-06-09     08:56:00   1.000000               0.0   \n",
       "32     RAHERY  2023-06-21     09:30:00   1.000000               0.0   \n",
       "33     RAHERY  2023-06-22     08:50:00   1.000000               0.0   \n",
       "34     RAHERY  2023-06-22     19:07:00   1.000000               0.0   \n",
       "35     RAHERY  2023-06-23     08:30:00   2.000000               0.0   \n",
       "36     RAHERY  2023-06-27     10:20:00   1.000000               0.0   \n",
       "37     RAHERY  2023-06-28     15:34:00   1.000000               0.0   \n",
       "38     RAHERY  2023-06-28     19:22:00   1.000000               0.0   \n",
       "39     RAHERY  2023-06-29     19:27:00   1.000000               0.0   \n",
       "40     RAHERY  2023-06-30     11:35:00   0.565000               0.0   \n",
       "41     RAHERY  2023-06-30     14:23:00   2.000000               0.0   \n",
       "42     RAHERY  2023-06-30     19:28:00   1.695000               0.0   \n",
       "43     RAHERY  2023-06-30     19:29:00   1.000000               0.0   \n",
       "44     RAHERY  2023-07-03     09:13:00   0.050000               0.0   \n",
       "45     RAHERY  2023-07-03     19:41:00   1.680000               0.0   \n",
       "46   ROBINSON  2023-06-13     11:45:00   0.100000               0.0   \n",
       "47   SANTATRA  2023-06-08     18:30:00   1.000000               0.0   \n",
       "48      TIANA  2023-06-08     18:27:00   9.375000               0.0   \n",
       "49       TINA  2023-06-12     16:00:00   7.812500               0.0   \n",
       "50      TSIRY  2023-06-22     19:08:00   2.500000               0.0   \n",
       "51         ZO  2023-06-06     18:24:00   0.500000               0.0   \n",
       "52         ZO  2023-06-22     19:06:00   0.250000               0.0   \n",
       "53         ZO  2023-07-03     19:38:00   2.000000               0.0   \n",
       "\n",
       "    total_frais_pliage  total_remise  total_chute  frais_pliage_by_tole  \n",
       "0              20000.0           0.0      0.00000          18000.000000  \n",
       "1              60000.0           0.0      0.00000          18000.000000  \n",
       "2              50600.0           0.0      0.00000          10000.000000  \n",
       "3               9400.0           0.0      0.00000          30000.000000  \n",
       "4              15000.0           0.0      0.35000           5760.000000  \n",
       "5              12000.0           0.0      0.00000          31200.000000  \n",
       "6              30000.0           0.0      0.00000          19500.000000  \n",
       "7               4800.0           0.0      0.12636          12000.000000  \n",
       "8              32000.0           0.0      0.00000          12000.000000  \n",
       "9              12000.0           0.0      0.00000          12000.000000  \n",
       "10             12000.0           0.0      0.00000           1920.000000  \n",
       "11             24000.0           0.0      0.00000          50000.000000  \n",
       "12             15000.0           0.0      0.00000          10000.000000  \n",
       "13             12000.0           0.0      0.00000         144000.000000  \n",
       "14             15000.0           0.0      0.00000         123750.000000  \n",
       "15             30000.0           0.0      0.00000          44055.068836  \n",
       "16              3200.0           0.0      0.00000         351108.185210  \n",
       "17             36000.0           0.0      0.00000          15000.000000  \n",
       "18             10000.0           0.0      0.04400          24102.564103  \n",
       "19             20000.0           0.0      0.00000           4000.000000  \n",
       "20             10000.0           0.0      0.00000          12000.000000  \n",
       "21             20000.0           0.0      0.00000          12000.000000  \n",
       "22             20000.0           0.0      0.00000          15000.000000  \n",
       "23             19800.0           0.0      0.00000           9000.000000  \n",
       "24             60000.0           0.0      0.00000          15000.000000  \n",
       "25             18000.0           0.0      0.00000          15000.000000  \n",
       "26             18000.0           0.0      0.70700          41600.000000  \n",
       "27             12000.0           0.0      0.03200          15000.000000  \n",
       "28             15000.0           0.0      0.00000          20000.000000  \n",
       "29             18000.0           0.0      0.00000          80000.000000  \n",
       "30             18000.0           0.0      0.00000          12000.000000  \n",
       "31             19500.0           0.0      0.00000          15000.000000  \n",
       "32             15000.0           0.0      0.00000          15000.000000  \n",
       "33             15000.0           0.0      0.00000          15000.000000  \n",
       "34             15000.0           0.0      0.00000          27777.777778  \n",
       "35             30000.0           0.0      0.00000          15000.000000  \n",
       "36             12000.0           0.0      0.00000          12000.000000  \n",
       "37             15000.0           0.0      0.00000          10000.000000  \n",
       "38             12000.0           0.0      0.00000           9000.000000  \n",
       "39             15000.0           0.0      0.00000          12000.000000  \n",
       "40              3200.0           0.0      0.00000          15000.000000  \n",
       "41             15600.0           0.0      0.00000          92307.692308  \n",
       "42             13200.0           0.0      0.00000          22641.509434  \n",
       "43             15000.0           0.0      0.00000         255319.148936  \n",
       "44              1500.0           0.0      0.00000          15000.000000  \n",
       "45              9600.0           0.0      0.00000           7787.610619  \n",
       "46             14400.0           0.0      0.00000          15000.000000  \n",
       "47             31200.0           0.0      0.21300          10000.000000  \n",
       "48             54000.0           0.0      0.00000           5663.716814  \n",
       "49             15000.0           0.0      0.00000           4600.000000  \n",
       "50             40000.0           0.0      0.00000           7800.000000  \n",
       "51             15000.0           0.0      0.00000          30000.000000  \n",
       "52             10400.0           0.0      0.05000          40050.000000  \n",
       "53             80100.0           0.0      0.72500          15000.000000  "
      ]
     },
     "execution_count": 110,
     "metadata": {},
     "output_type": "execute_result"
    }
   ],
   "source": [
    "df_sorted"
   ]
  },
  {
   "cell_type": "code",
   "execution_count": 23,
   "metadata": {},
   "outputs": [
    {
     "data": {
      "text/html": [
       "<div>\n",
       "<style scoped>\n",
       "    .dataframe tbody tr th:only-of-type {\n",
       "        vertical-align: middle;\n",
       "    }\n",
       "\n",
       "    .dataframe tbody tr th {\n",
       "        vertical-align: top;\n",
       "    }\n",
       "\n",
       "    .dataframe thead th {\n",
       "        text-align: right;\n",
       "    }\n",
       "</style>\n",
       "<table border=\"1\" class=\"dataframe\">\n",
       "  <thead>\n",
       "    <tr style=\"text-align: right;\">\n",
       "      <th></th>\n",
       "      <th>nom_client</th>\n",
       "      <th>date_arrivé</th>\n",
       "      <th>heure_arrivé</th>\n",
       "      <th>qty_tole</th>\n",
       "      <th>total_vente_tole</th>\n",
       "      <th>total_frais_pliage</th>\n",
       "      <th>total_remise</th>\n",
       "      <th>total_chute</th>\n",
       "      <th>frais_pliage_by_tole</th>\n",
       "      <th>month_year</th>\n",
       "    </tr>\n",
       "  </thead>\n",
       "  <tbody>\n",
       "    <tr>\n",
       "      <th>0</th>\n",
       "      <td>ANDRY</td>\n",
       "      <td>2023-04-03</td>\n",
       "      <td>00:00:00</td>\n",
       "      <td>1.00</td>\n",
       "      <td>0.0</td>\n",
       "      <td>6000.0</td>\n",
       "      <td>0.0</td>\n",
       "      <td>0.000</td>\n",
       "      <td>18000.0</td>\n",
       "      <td>2023-04</td>\n",
       "    </tr>\n",
       "    <tr>\n",
       "      <th>1</th>\n",
       "      <td>AVOTRA</td>\n",
       "      <td>2023-03-24</td>\n",
       "      <td>21:10:00</td>\n",
       "      <td>1.00</td>\n",
       "      <td>0.0</td>\n",
       "      <td>12000.0</td>\n",
       "      <td>0.0</td>\n",
       "      <td>0.000</td>\n",
       "      <td>18000.0</td>\n",
       "      <td>2023-03</td>\n",
       "    </tr>\n",
       "    <tr>\n",
       "      <th>2</th>\n",
       "      <td>BOLIDA</td>\n",
       "      <td>2023-03-09</td>\n",
       "      <td>20:38:00</td>\n",
       "      <td>1.00</td>\n",
       "      <td>0.0</td>\n",
       "      <td>8000.0</td>\n",
       "      <td>0.0</td>\n",
       "      <td>0.000</td>\n",
       "      <td>10000.0</td>\n",
       "      <td>2023-03</td>\n",
       "    </tr>\n",
       "    <tr>\n",
       "      <th>3</th>\n",
       "      <td>BOLIDA</td>\n",
       "      <td>2023-06-13</td>\n",
       "      <td>18:36:00</td>\n",
       "      <td>0.40</td>\n",
       "      <td>0.0</td>\n",
       "      <td>20000.0</td>\n",
       "      <td>0.0</td>\n",
       "      <td>0.000</td>\n",
       "      <td>30000.0</td>\n",
       "      <td>2023-06</td>\n",
       "    </tr>\n",
       "    <tr>\n",
       "      <th>4</th>\n",
       "      <td>BOSCO</td>\n",
       "      <td>2023-06-19</td>\n",
       "      <td>19:01:00</td>\n",
       "      <td>15.00</td>\n",
       "      <td>0.0</td>\n",
       "      <td>60000.0</td>\n",
       "      <td>0.0</td>\n",
       "      <td>0.000</td>\n",
       "      <td>5760.0</td>\n",
       "      <td>2023-06</td>\n",
       "    </tr>\n",
       "    <tr>\n",
       "      <th>...</th>\n",
       "      <td>...</td>\n",
       "      <td>...</td>\n",
       "      <td>...</td>\n",
       "      <td>...</td>\n",
       "      <td>...</td>\n",
       "      <td>...</td>\n",
       "      <td>...</td>\n",
       "      <td>...</td>\n",
       "      <td>...</td>\n",
       "      <td>...</td>\n",
       "    </tr>\n",
       "    <tr>\n",
       "      <th>89</th>\n",
       "      <td>TSARAVIDY</td>\n",
       "      <td>2023-03-21</td>\n",
       "      <td>21:05:00</td>\n",
       "      <td>1.00</td>\n",
       "      <td>84000.0</td>\n",
       "      <td>9000.0</td>\n",
       "      <td>0.0</td>\n",
       "      <td>0.000</td>\n",
       "      <td>10000.0</td>\n",
       "      <td>2023-03</td>\n",
       "    </tr>\n",
       "    <tr>\n",
       "      <th>90</th>\n",
       "      <td>TSIRY</td>\n",
       "      <td>2023-06-22</td>\n",
       "      <td>19:08:00</td>\n",
       "      <td>2.50</td>\n",
       "      <td>0.0</td>\n",
       "      <td>40000.0</td>\n",
       "      <td>0.0</td>\n",
       "      <td>0.000</td>\n",
       "      <td>15000.0</td>\n",
       "      <td>2023-06</td>\n",
       "    </tr>\n",
       "    <tr>\n",
       "      <th>91</th>\n",
       "      <td>ZO</td>\n",
       "      <td>2023-06-06</td>\n",
       "      <td>18:24:00</td>\n",
       "      <td>0.50</td>\n",
       "      <td>0.0</td>\n",
       "      <td>15000.0</td>\n",
       "      <td>0.0</td>\n",
       "      <td>0.000</td>\n",
       "      <td>6000.0</td>\n",
       "      <td>2023-06</td>\n",
       "    </tr>\n",
       "    <tr>\n",
       "      <th>92</th>\n",
       "      <td>ZO</td>\n",
       "      <td>2023-06-22</td>\n",
       "      <td>19:06:00</td>\n",
       "      <td>0.25</td>\n",
       "      <td>0.0</td>\n",
       "      <td>10400.0</td>\n",
       "      <td>0.0</td>\n",
       "      <td>0.050</td>\n",
       "      <td>16500.0</td>\n",
       "      <td>2023-06</td>\n",
       "    </tr>\n",
       "    <tr>\n",
       "      <th>93</th>\n",
       "      <td>ZO</td>\n",
       "      <td>2023-07-03</td>\n",
       "      <td>19:38:00</td>\n",
       "      <td>2.00</td>\n",
       "      <td>0.0</td>\n",
       "      <td>80100.0</td>\n",
       "      <td>0.0</td>\n",
       "      <td>0.725</td>\n",
       "      <td>66000.0</td>\n",
       "      <td>2023-07</td>\n",
       "    </tr>\n",
       "  </tbody>\n",
       "</table>\n",
       "<p>94 rows × 10 columns</p>\n",
       "</div>"
      ],
      "text/plain": [
       "   nom_client date_arrivé heure_arrivé  qty_tole  total_vente_tole  \\\n",
       "0       ANDRY  2023-04-03     00:00:00      1.00               0.0   \n",
       "1      AVOTRA  2023-03-24     21:10:00      1.00               0.0   \n",
       "2      BOLIDA  2023-03-09     20:38:00      1.00               0.0   \n",
       "3      BOLIDA  2023-06-13     18:36:00      0.40               0.0   \n",
       "4       BOSCO  2023-06-19     19:01:00     15.00               0.0   \n",
       "..        ...         ...          ...       ...               ...   \n",
       "89  TSARAVIDY  2023-03-21     21:05:00      1.00           84000.0   \n",
       "90      TSIRY  2023-06-22     19:08:00      2.50               0.0   \n",
       "91         ZO  2023-06-06     18:24:00      0.50               0.0   \n",
       "92         ZO  2023-06-22     19:06:00      0.25               0.0   \n",
       "93         ZO  2023-07-03     19:38:00      2.00               0.0   \n",
       "\n",
       "    total_frais_pliage  total_remise  total_chute  frais_pliage_by_tole  \\\n",
       "0               6000.0           0.0        0.000               18000.0   \n",
       "1              12000.0           0.0        0.000               18000.0   \n",
       "2               8000.0           0.0        0.000               10000.0   \n",
       "3              20000.0           0.0        0.000               30000.0   \n",
       "4              60000.0           0.0        0.000                5760.0   \n",
       "..                 ...           ...          ...                   ...   \n",
       "89              9000.0           0.0        0.000               10000.0   \n",
       "90             40000.0           0.0        0.000               15000.0   \n",
       "91             15000.0           0.0        0.000                6000.0   \n",
       "92             10400.0           0.0        0.050               16500.0   \n",
       "93             80100.0           0.0        0.725               66000.0   \n",
       "\n",
       "   month_year  \n",
       "0     2023-04  \n",
       "1     2023-03  \n",
       "2     2023-03  \n",
       "3     2023-06  \n",
       "4     2023-06  \n",
       "..        ...  \n",
       "89    2023-03  \n",
       "90    2023-06  \n",
       "91    2023-06  \n",
       "92    2023-06  \n",
       "93    2023-07  \n",
       "\n",
       "[94 rows x 10 columns]"
      ]
     },
     "execution_count": 23,
     "metadata": {},
     "output_type": "execute_result"
    }
   ],
   "source": [
    "df1"
   ]
  },
  {
   "cell_type": "code",
   "execution_count": 1,
   "metadata": {},
   "outputs": [
    {
     "name": "stdout",
     "output_type": "stream",
     "text": [
      "French_France.1252\n",
      "2 099,24\n"
     ]
    }
   ],
   "source": [
    "\n",
    "import locale\n",
    "ma_locale = locale.setlocale(locale.LC_ALL, '')\n",
    "print(ma_locale)\n",
    "\n",
    "\n"
   ]
  },
  {
   "cell_type": "code",
   "execution_count": 2,
   "metadata": {},
   "outputs": [
    {
     "name": "stdout",
     "output_type": "stream",
     "text": [
      "2 099,24\n"
     ]
    }
   ],
   "source": [
    "x = 2099.236569633\n",
    "print(f\"{x:n}\")"
   ]
  },
  {
   "cell_type": "code",
   "execution_count": 6,
   "metadata": {},
   "outputs": [],
   "source": [
    "import sqlite3 \n",
    "conn = sqlite3.connect(\"plitech_database.db\")\n",
    "cur = conn.cursor()"
   ]
  },
  {
   "cell_type": "code",
   "execution_count": 7,
   "metadata": {},
   "outputs": [
    {
     "data": {
      "text/plain": [
       "<sqlite3.Cursor at 0x2bf370447c0>"
      ]
     },
     "execution_count": 7,
     "metadata": {},
     "output_type": "execute_result"
    }
   ],
   "source": [
    "cur.execute(\"delete from billetage where date = '2023-08-31'\")"
   ]
  },
  {
   "cell_type": "code",
   "execution_count": 8,
   "metadata": {},
   "outputs": [],
   "source": [
    "conn.commit()"
   ]
  },
  {
   "cell_type": "code",
   "execution_count": 9,
   "metadata": {},
   "outputs": [],
   "source": [
    "conn.close()"
   ]
  },
  {
   "cell_type": "code",
   "execution_count": null,
   "metadata": {},
   "outputs": [],
   "source": []
  }
 ],
 "metadata": {
  "kernelspec": {
   "display_name": "dashboard",
   "language": "python",
   "name": "python3"
  },
  "language_info": {
   "codemirror_mode": {
    "name": "ipython",
    "version": 3
   },
   "file_extension": ".py",
   "mimetype": "text/x-python",
   "name": "python",
   "nbconvert_exporter": "python",
   "pygments_lexer": "ipython3",
   "version": "3.11.0"
  },
  "orig_nbformat": 4
 },
 "nbformat": 4,
 "nbformat_minor": 2
}
