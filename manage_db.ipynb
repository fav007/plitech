{
 "cells": [
  {
   "cell_type": "code",
   "execution_count": 1,
   "metadata": {},
   "outputs": [],
   "source": [
    "import sqlite3\n",
    "import pandas as pd"
   ]
  },
  {
   "cell_type": "code",
   "execution_count": 18,
   "metadata": {},
   "outputs": [],
   "source": [
    "sql_create_table_depense = \"\"\" create table depense (\n",
    "                        date text,\n",
    "                        categorie text,\n",
    "                        ref_piece text,\n",
    "                        description text,\n",
    "                        montant numeric\n",
    "                    );\"\"\"\n",
    "sql_create_table_stock = \"\"\" create table stock (\n",
    "                        date text,\n",
    "                        total_stock numeric,\n",
    "                    );\"\"\"\n",
    "sql_drop_table_depense = \"\"\"drop table depense;\"\"\"\n",
    "\n",
    "sql_delete_table_depense= \"\"\"delete from depense;\"\"\" "
   ]
  },
  {
   "cell_type": "code",
   "execution_count": 3,
   "metadata": {},
   "outputs": [],
   "source": [
    "with sqlite3.connect(\"plitech_database.db\") as conn:\n",
    "    cur = conn.cursor()\n",
    "    sql = \"\"\" select * from recap\"\"\"\n",
    "    df = pd.read_sql_query(sql,conn)"
   ]
  },
  {
   "cell_type": "code",
   "execution_count": 2,
   "metadata": {},
   "outputs": [
    {
     "ename": "NameError",
     "evalue": "name 'sql_create_table_stock' is not defined",
     "output_type": "error",
     "traceback": [
      "\u001b[1;31m---------------------------------------------------------------------------\u001b[0m",
      "\u001b[1;31mNameError\u001b[0m                                 Traceback (most recent call last)",
      "\u001b[1;32mc:\\Users\\USER\\code\\fav007\\DGD\\plitech\\manage_db.ipynb Cell 4\u001b[0m in \u001b[0;36m3\n\u001b[0;32m      <a href='vscode-notebook-cell:/c%3A/Users/USER/code/fav007/DGD/plitech/manage_db.ipynb#W3sZmlsZQ%3D%3D?line=0'>1</a>\u001b[0m \u001b[39mwith\u001b[39;00m sqlite3\u001b[39m.\u001b[39mconnect(\u001b[39m\"\u001b[39m\u001b[39mplitech_database.db\u001b[39m\u001b[39m\"\u001b[39m) \u001b[39mas\u001b[39;00m conn:\n\u001b[0;32m      <a href='vscode-notebook-cell:/c%3A/Users/USER/code/fav007/DGD/plitech/manage_db.ipynb#W3sZmlsZQ%3D%3D?line=1'>2</a>\u001b[0m     cur \u001b[39m=\u001b[39m conn\u001b[39m.\u001b[39mcursor()\n\u001b[1;32m----> <a href='vscode-notebook-cell:/c%3A/Users/USER/code/fav007/DGD/plitech/manage_db.ipynb#W3sZmlsZQ%3D%3D?line=2'>3</a>\u001b[0m     cur\u001b[39m.\u001b[39mexecute(sql_create_table_stock)\n\u001b[0;32m      <a href='vscode-notebook-cell:/c%3A/Users/USER/code/fav007/DGD/plitech/manage_db.ipynb#W3sZmlsZQ%3D%3D?line=3'>4</a>\u001b[0m     conn\u001b[39m.\u001b[39mcommit()\n",
      "\u001b[1;31mNameError\u001b[0m: name 'sql_create_table_stock' is not defined"
     ]
    }
   ],
   "source": [
    "with sqlite3.connect(\"plitech_database.db\") as conn:\n",
    "    cur = conn.cursor()\n",
    "    cur.execute(sql_create_table_stock)\n",
    "    conn.commit()"
   ]
  },
  {
   "cell_type": "code",
   "execution_count": null,
   "metadata": {},
   "outputs": [],
   "source": []
  }
 ],
 "metadata": {
  "kernelspec": {
   "display_name": "dashboard",
   "language": "python",
   "name": "python3"
  },
  "language_info": {
   "codemirror_mode": {
    "name": "ipython",
    "version": 3
   },
   "file_extension": ".py",
   "mimetype": "text/x-python",
   "name": "python",
   "nbconvert_exporter": "python",
   "pygments_lexer": "ipython3",
   "version": "3.11.0"
  },
  "orig_nbformat": 4
 },
 "nbformat": 4,
 "nbformat_minor": 2
}
