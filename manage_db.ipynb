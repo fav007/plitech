{
 "cells": [
  {
   "cell_type": "code",
   "execution_count": 1,
   "metadata": {},
   "outputs": [],
   "source": [
    "import sqlite3\n",
    "import pandas as pd"
   ]
  },
  {
   "cell_type": "code",
   "execution_count": 8,
   "metadata": {},
   "outputs": [],
   "source": [
    "sql_create_table_depense = \"\"\" create table depense (\n",
    "                        date text,\n",
    "                        categorie text,\n",
    "                        ref_piece text,\n",
    "                        description text,\n",
    "                        montant numeric\n",
    "                    );\"\"\"\n",
    "sql_create_table_stock = \"\"\" create table stock (\n",
    "                        date text,\n",
    "                        total_stock numeric\n",
    "                    );\"\"\"\n",
    "sql_drop_table_depense = \"\"\"drop table depense;\"\"\"\n",
    "\n",
    "sql_delete_table_depense= \"\"\"delete from depense;\"\"\" \n",
    "\n",
    "sql_delete_table_stock = \"\"\"delete from stock\"\"\""
   ]
  },
  {
   "cell_type": "code",
   "execution_count": 3,
   "metadata": {},
   "outputs": [],
   "source": [
    "with sqlite3.connect(\"plitech_database.db\") as conn:\n",
    "    cur = conn.cursor()\n",
    "    sql = \"\"\" select * from recap\"\"\"\n",
    "    df = pd.read_sql_query(sql,conn)"
   ]
  },
  {
   "cell_type": "code",
   "execution_count": 7,
   "metadata": {},
   "outputs": [],
   "source": [
    "with sqlite3.connect(\"plitech_database.db\") as conn:\n",
    "    cur = conn.cursor()\n",
    "    cur.execute(sql_delete_table_stock)\n",
    "    conn.commit()"
   ]
  },
  {
   "cell_type": "code",
   "execution_count": null,
   "metadata": {},
   "outputs": [],
   "source": []
  }
 ],
 "metadata": {
  "kernelspec": {
   "display_name": "dashboard",
   "language": "python",
   "name": "python3"
  },
  "language_info": {
   "codemirror_mode": {
    "name": "ipython",
    "version": 3
   },
   "file_extension": ".py",
   "mimetype": "text/x-python",
   "name": "python",
   "nbconvert_exporter": "python",
   "pygments_lexer": "ipython3",
   "version": "3.11.0"
  },
  "orig_nbformat": 4
 },
 "nbformat": 4,
 "nbformat_minor": 2
}
